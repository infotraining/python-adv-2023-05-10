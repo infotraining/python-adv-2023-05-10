{
 "cells": [
  {
   "attachments": {},
   "cell_type": "markdown",
   "metadata": {},
   "source": [
    "# Dekoratory"
   ]
  },
  {
   "cell_type": "code",
   "execution_count": 27,
   "metadata": {},
   "outputs": [],
   "source": [
    "import functools\n",
    "\n",
    "def shouter(func):\n",
    "    \n",
    "    @functools.wraps(func)\n",
    "    def wrapper(*args, **kwargs):\n",
    "        print('-- Before call: ', func.__name__)\n",
    "        result = func(*args, **kwargs)\n",
    "        print('-- After call: ', func.__name__)\n",
    "        return result\n",
    "    \n",
    "    return wrapper"
   ]
  },
  {
   "cell_type": "code",
   "execution_count": 28,
   "metadata": {},
   "outputs": [],
   "source": [
    "@shouter\n",
    "def foo(name: str):\n",
    "    \"\"\"foo function\"\"\"\n",
    "    print(f\"foo-{name}\")"
   ]
  },
  {
   "cell_type": "code",
   "execution_count": 29,
   "metadata": {},
   "outputs": [
    {
     "name": "stdout",
     "output_type": "stream",
     "text": [
      "-- Before call:  foo\n",
      "foo-Hello\n",
      "-- After call:  foo\n"
     ]
    }
   ],
   "source": [
    "foo(\"Hello\")"
   ]
  },
  {
   "cell_type": "code",
   "execution_count": 30,
   "metadata": {},
   "outputs": [
    {
     "data": {
      "text/plain": [
       "'foo function'"
      ]
     },
     "execution_count": 30,
     "metadata": {},
     "output_type": "execute_result"
    }
   ],
   "source": [
    "foo.__doc__"
   ]
  },
  {
   "cell_type": "code",
   "execution_count": 31,
   "metadata": {},
   "outputs": [
    {
     "data": {
      "text/plain": [
       "'foo'"
      ]
     },
     "execution_count": 31,
     "metadata": {},
     "output_type": "execute_result"
    }
   ],
   "source": [
    "foo.__name__"
   ]
  },
  {
   "cell_type": "code",
   "execution_count": 32,
   "metadata": {},
   "outputs": [],
   "source": [
    "foo = shouter(foo)"
   ]
  },
  {
   "cell_type": "code",
   "execution_count": 33,
   "metadata": {},
   "outputs": [
    {
     "name": "stdout",
     "output_type": "stream",
     "text": [
      "-- Before call:  foo\n",
      "-- Before call:  foo\n",
      "foo-foo with wrapper\n",
      "-- After call:  foo\n",
      "-- After call:  foo\n"
     ]
    }
   ],
   "source": [
    "foo(\"foo with wrapper\")"
   ]
  },
  {
   "cell_type": "code",
   "execution_count": 39,
   "metadata": {},
   "outputs": [],
   "source": [
    "from typing import Any, Callable\n",
    "\n",
    "def disable(func: Callable[..., Any]) -> Callable[..., Any | None]:\n",
    "    @functools.wraps(func)\n",
    "    def _disable(*args, **kwargs):\n",
    "        pass\n",
    "    return _disable"
   ]
  },
  {
   "cell_type": "code",
   "execution_count": 40,
   "metadata": {},
   "outputs": [],
   "source": [
    "@disable\n",
    "def bar(n):\n",
    "    print(f\"bar({n})\")"
   ]
  },
  {
   "cell_type": "code",
   "execution_count": 41,
   "metadata": {},
   "outputs": [],
   "source": [
    "bar(42)"
   ]
  },
  {
   "attachments": {},
   "cell_type": "markdown",
   "metadata": {},
   "source": [
    "## Dekoratory z parametrem"
   ]
  },
  {
   "cell_type": "code",
   "execution_count": 49,
   "metadata": {},
   "outputs": [],
   "source": [
    "def tag(tagname: str): \n",
    "    print(f\"creation of tag: {tagname}\")\n",
    "    def tag_decorator(func):\n",
    "        print(f\"magic happens for {func.__name__}\")\n",
    "        @functools.wraps(func)\n",
    "        def _tag_wrapper(*args, **kwargs):\n",
    "            tag_before = f\"<{tagname}>\"\n",
    "            tag_after = f\"</{tagname}>\"\n",
    "            return tag_before + func(*args, **kwargs) + tag_after\n",
    "        return _tag_wrapper\n",
    "    return tag_decorator"
   ]
  },
  {
   "cell_type": "code",
   "execution_count": 56,
   "metadata": {},
   "outputs": [
    {
     "name": "stdout",
     "output_type": "stream",
     "text": [
      "creation of tag: h1\n",
      "magic happens for get_html\n"
     ]
    }
   ],
   "source": [
    "@tag(\"h1\")\n",
    "@shouter\n",
    "def get_html(text):\n",
    "    return text"
   ]
  },
  {
   "cell_type": "code",
   "execution_count": 57,
   "metadata": {},
   "outputs": [
    {
     "name": "stdout",
     "output_type": "stream",
     "text": [
      "-- Before call:  get_html\n",
      "-- After call:  get_html\n"
     ]
    },
    {
     "data": {
      "text/plain": [
       "'<h1>Hello</h1>'"
      ]
     },
     "execution_count": 57,
     "metadata": {},
     "output_type": "execute_result"
    }
   ],
   "source": [
    "get_html(\"Hello\")"
   ]
  },
  {
   "cell_type": "code",
   "execution_count": 58,
   "metadata": {},
   "outputs": [
    {
     "data": {
      "text/plain": [
       "'get_html'"
      ]
     },
     "execution_count": 58,
     "metadata": {},
     "output_type": "execute_result"
    }
   ],
   "source": [
    "get_html.__name__"
   ]
  },
  {
   "cell_type": "code",
   "execution_count": 53,
   "metadata": {},
   "outputs": [
    {
     "name": "stdout",
     "output_type": "stream",
     "text": [
      "creation of tag: div\n",
      "magic happens for get_html\n"
     ]
    }
   ],
   "source": [
    "get_html = tag(\"div\")(get_html)"
   ]
  },
  {
   "cell_type": "code",
   "execution_count": 48,
   "metadata": {},
   "outputs": [
    {
     "data": {
      "text/plain": [
       "'<div><h1>Bye</h1></div>'"
      ]
     },
     "execution_count": 48,
     "metadata": {},
     "output_type": "execute_result"
    }
   ],
   "source": [
    "get_html(\"Bye\")"
   ]
  },
  {
   "attachments": {},
   "cell_type": "markdown",
   "metadata": {},
   "source": [
    "## Implementacja dekoratorów za pomocą klasy"
   ]
  },
  {
   "cell_type": "code",
   "execution_count": 91,
   "metadata": {},
   "outputs": [],
   "source": [
    "class Debug:\n",
    "    def __init__(self, function: Callable) -> None:\n",
    "        print(f\"Create instance of Debug {function}:{type(function)}\")\n",
    "        self.function = function\n",
    "        functools.update_wrapper(self, function) # the same as wraps for classic decorator\n",
    "\n",
    "    def __call__(self, *args, **kwargs):\n",
    "        print(f\"self.function{self.function}:{type(self.function)}\")\n",
    "        result = self.function(*args, **kwargs)\n",
    "        name = self.function.__name__\n",
    "\n",
    "        print(f\"{name}({args!r}, {kwargs!r}): {result}\")"
   ]
  },
  {
   "cell_type": "code",
   "execution_count": 92,
   "metadata": {},
   "outputs": [
    {
     "name": "stdout",
     "output_type": "stream",
     "text": [
      "Create instance of Debug <function add at 0x000001BE6C0F0F40>:<class 'function'>\n"
     ]
    }
   ],
   "source": [
    "@Debug\n",
    "def add(a, b):\n",
    "    return a + b"
   ]
  },
  {
   "cell_type": "code",
   "execution_count": 93,
   "metadata": {},
   "outputs": [
    {
     "name": "stdout",
     "output_type": "stream",
     "text": [
      "self.function<function add at 0x000001BE6C0F0F40>:<class 'function'>\n",
      "add((1, 2), {}): 3\n"
     ]
    }
   ],
   "source": [
    "add(1, 2)"
   ]
  },
  {
   "cell_type": "code",
   "execution_count": 94,
   "metadata": {},
   "outputs": [
    {
     "name": "stdout",
     "output_type": "stream",
     "text": [
      "Create instance of Debug <__main__.Debug object at 0x000001BE6C00D310>:<class '__main__.Debug'>\n"
     ]
    }
   ],
   "source": [
    "add = Debug(add)"
   ]
  },
  {
   "cell_type": "code",
   "execution_count": 95,
   "metadata": {},
   "outputs": [
    {
     "name": "stdout",
     "output_type": "stream",
     "text": [
      "self.function<function add at 0x000001BE6C0F0F40>:<class 'function'>\n",
      "add((6, 7), {}): 13\n"
     ]
    }
   ],
   "source": [
    "add(6, 7)"
   ]
  },
  {
   "cell_type": "code",
   "execution_count": 96,
   "metadata": {},
   "outputs": [
    {
     "data": {
      "text/plain": [
       "__main__.Debug"
      ]
     },
     "execution_count": 96,
     "metadata": {},
     "output_type": "execute_result"
    }
   ],
   "source": [
    "type(add)"
   ]
  },
  {
   "cell_type": "code",
   "execution_count": 97,
   "metadata": {},
   "outputs": [
    {
     "data": {
      "text/plain": [
       "<__main__.Debug at 0x1be6c094e90>"
      ]
     },
     "execution_count": 97,
     "metadata": {},
     "output_type": "execute_result"
    }
   ],
   "source": [
    "add"
   ]
  },
  {
   "attachments": {},
   "cell_type": "markdown",
   "metadata": {},
   "source": [
    "## Rejestracja przy pomocy dekoratorów"
   ]
  },
  {
   "cell_type": "code",
   "execution_count": 60,
   "metadata": {},
   "outputs": [],
   "source": [
    "import collections\n",
    "\n",
    "\n",
    "class EventRegistry:\n",
    "    def __init__(self) -> None:\n",
    "        self.registry = collections.defaultdict(list)\n",
    "\n",
    "    def on(self, *events): \n",
    "        \"\"\"decorator for registrations\"\"\"\n",
    "        def _on(function: Callable) -> Callable:\n",
    "            for event in events:\n",
    "                self.registry[event].append(function)\n",
    "            return function\n",
    "        return _on\n",
    "    \n",
    "    def fire(self, event: str, *args, **kwargs):\n",
    "        for function in self.registry[event]:\n",
    "            function(*args, **kwargs)"
   ]
  },
  {
   "cell_type": "code",
   "execution_count": 65,
   "metadata": {},
   "outputs": [
    {
     "name": "stdout",
     "output_type": "stream",
     "text": [
      "Starting service Start me UP\n",
      "Shutting down system\n"
     ]
    }
   ],
   "source": [
    "events = EventRegistry()\n",
    "\n",
    "@events.on('start', 'success')\n",
    "def start(service_name: str):\n",
    "    print(f'Starting service {service_name}')\n",
    "\n",
    "@events.on('error')\n",
    "def teardown():\n",
    "    print('Shutting down system')\n",
    "\n",
    "events.fire('start', \"Start me UP\")\n",
    "events.fire('error')"
   ]
  },
  {
   "attachments": {},
   "cell_type": "markdown",
   "metadata": {},
   "source": [
    "## Properties"
   ]
  },
  {
   "cell_type": "code",
   "execution_count": 104,
   "metadata": {},
   "outputs": [],
   "source": [
    "class IntProperty:\n",
    "    def __init__(self, fget=None, fset=None, fdel=None) -> None:\n",
    "        self.fget = fget\n",
    "        self.fset = fset\n",
    "        self.fdel = fdel\n",
    "    \n",
    "    def __get__(self, obj, owner_cls):\n",
    "        if obj is None:\n",
    "            return self\n",
    "        elif self.fget:\n",
    "            return self.fget(obj)\n",
    "\n",
    "    def __set__(self, obj, value):\n",
    "        if not isinstance(value, int):\n",
    "            raise ValueError(\"Value must be int\")\n",
    "        self.fset(obj, value)\n",
    "\n",
    "    def __delete__(self, obj):\n",
    "        self.fdel(obj)\n",
    "\n",
    "    def getter(self, fget):\n",
    "        return IntProperty(fget, self.fset, self.fdel)\n",
    "\n",
    "    def setter(self, fset):\n",
    "        return IntProperty(self.fget, fset, self.fdel)\n",
    "    \n",
    "    def deleter(self, fdel):\n",
    "        return IntProperty(self.fget, self.fset, fdel)"
   ]
  },
  {
   "cell_type": "code",
   "execution_count": 105,
   "metadata": {},
   "outputs": [],
   "source": [
    "class Person:\n",
    "\n",
    "    def __init__(self, age) -> None:\n",
    "        self.__age = age\n",
    "\n",
    "    @IntProperty\n",
    "    def age(self):\n",
    "        return self.__age\n",
    "    \n",
    "    # how it works\n",
    "    # age = IntProperty(age) # now age is descriptor with only __get__\n",
    "    \n",
    "    @age.setter \n",
    "    def _age(self, new_age):\n",
    "        self.__age = new_age\n",
    "\n",
    "    # age = age.setter(fset=_age) # # now age is descriptor with __get__ & __set__\n"
   ]
  },
  {
   "cell_type": "code",
   "execution_count": 106,
   "metadata": {},
   "outputs": [],
   "source": [
    "p = Person(20)"
   ]
  },
  {
   "cell_type": "code",
   "execution_count": 107,
   "metadata": {},
   "outputs": [
    {
     "ename": "ValueError",
     "evalue": "Value must be int",
     "output_type": "error",
     "traceback": [
      "\u001b[1;31m---------------------------------------------------------------------------\u001b[0m",
      "\u001b[1;31mValueError\u001b[0m                                Traceback (most recent call last)",
      "Cell \u001b[1;32mIn[107], line 1\u001b[0m\n\u001b[1;32m----> 1\u001b[0m p\u001b[39m.\u001b[39;49mage \u001b[39m=\u001b[39m \u001b[39m\"\u001b[39m\u001b[39mtext\u001b[39m\u001b[39m\"\u001b[39m\n",
      "Cell \u001b[1;32mIn[104], line 15\u001b[0m, in \u001b[0;36mIntProperty.__set__\u001b[1;34m(self, obj, value)\u001b[0m\n\u001b[0;32m     13\u001b[0m \u001b[39mdef\u001b[39;00m \u001b[39m__set__\u001b[39m(\u001b[39mself\u001b[39m, obj, value):\n\u001b[0;32m     14\u001b[0m     \u001b[39mif\u001b[39;00m \u001b[39mnot\u001b[39;00m \u001b[39misinstance\u001b[39m(value, \u001b[39mint\u001b[39m):\n\u001b[1;32m---> 15\u001b[0m         \u001b[39mraise\u001b[39;00m \u001b[39mValueError\u001b[39;00m(\u001b[39m\"\u001b[39m\u001b[39mValue must be int\u001b[39m\u001b[39m\"\u001b[39m)\n\u001b[0;32m     16\u001b[0m     \u001b[39mself\u001b[39m\u001b[39m.\u001b[39mfset(obj, value)\n",
      "\u001b[1;31mValueError\u001b[0m: Value must be int"
     ]
    }
   ],
   "source": [
    "p.age = \"text\""
   ]
  },
  {
   "attachments": {},
   "cell_type": "markdown",
   "metadata": {},
   "source": [
    "## Dekoracja klas"
   ]
  },
  {
   "cell_type": "code",
   "execution_count": 117,
   "metadata": {},
   "outputs": [],
   "source": [
    "def sort_by_attribute(attr):\n",
    "    def _sort_by_attribute(cls):\n",
    "        def __lt__(self, other):\n",
    "            return getattr(self, attr) < getattr(other, attr)\n",
    "        \n",
    "        def __eq__(self, other):\n",
    "            return getattr(self, attr) == getattr(other, attr)\n",
    "        \n",
    "        # injecting special function to the class\n",
    "        cls.__lt__ = __lt__\n",
    "        cls.__eq__ = __eq__\n",
    "\n",
    "        return cls\n",
    "    \n",
    "    return _sort_by_attribute"
   ]
  },
  {
   "cell_type": "code",
   "execution_count": 121,
   "metadata": {},
   "outputs": [],
   "source": [
    "@sort_by_attribute('name')\n",
    "class Gadget:\n",
    "    def __init__(self, id, name):\n",
    "        self.id = id\n",
    "        self.name = name\n",
    "    \n",
    "    def __repr__(self) -> str:\n",
    "        return f\"Gadget({self.name}, {self.id})\"\n",
    "    \n",
    "# Gadget = sort_by_attribute('name')(Gadget)"
   ]
  },
  {
   "cell_type": "code",
   "execution_count": 122,
   "metadata": {},
   "outputs": [],
   "source": [
    "gadgets = [Gadget(1, \"ipad\"), Gadget(5, \"smartwatch\"), Gadget(3, \"a gadget\"), Gadget(665, \"laptop\")]"
   ]
  },
  {
   "cell_type": "code",
   "execution_count": 123,
   "metadata": {},
   "outputs": [
    {
     "data": {
      "text/plain": [
       "[Gadget(a gadget, 3),\n",
       " Gadget(ipad, 1),\n",
       " Gadget(laptop, 665),\n",
       " Gadget(smartwatch, 5)]"
      ]
     },
     "execution_count": 123,
     "metadata": {},
     "output_type": "execute_result"
    }
   ],
   "source": [
    "sorted(gadgets)"
   ]
  },
  {
   "cell_type": "code",
   "execution_count": 124,
   "metadata": {},
   "outputs": [],
   "source": [
    "def add_id(decorated_class):\n",
    "    setattr(decorated_class, '__id_gen', 0)\n",
    "    print(f'Adding __id_gen to class {decorated_class.__name__}')\n",
    "    original_init = decorated_class.__init__\n",
    "\n",
    "    def __init__(self, *args, **kwargs):\n",
    "        decorated_class.__id_gen += 1\n",
    "        self.id = decorated_class.__id_gen\n",
    "        print(f'Adding id={self.id} to object {self}')\n",
    "        original_init(self, *args, **kwargs)\n",
    "\n",
    "    decorated_class.__init__ = __init__\n",
    "    return decorated_class"
   ]
  },
  {
   "cell_type": "code",
   "execution_count": 125,
   "metadata": {},
   "outputs": [
    {
     "name": "stdout",
     "output_type": "stream",
     "text": [
      "Adding __id_gen to class Person\n"
     ]
    }
   ],
   "source": [
    "@add_id\n",
    "class Person:\n",
    "    \n",
    "    def __init__(self, name):\n",
    "        self.name = name"
   ]
  },
  {
   "cell_type": "code",
   "execution_count": 126,
   "metadata": {},
   "outputs": [
    {
     "name": "stdout",
     "output_type": "stream",
     "text": [
      "Adding id=1 to object <__main__.Person object at 0x000001BE6C0EA6D0>\n"
     ]
    }
   ],
   "source": [
    "p1 = Person(\"John\")"
   ]
  },
  {
   "cell_type": "code",
   "execution_count": 127,
   "metadata": {},
   "outputs": [
    {
     "data": {
      "text/plain": [
       "1"
      ]
     },
     "execution_count": 127,
     "metadata": {},
     "output_type": "execute_result"
    }
   ],
   "source": [
    "p1.id"
   ]
  },
  {
   "cell_type": "code",
   "execution_count": 128,
   "metadata": {},
   "outputs": [
    {
     "name": "stdout",
     "output_type": "stream",
     "text": [
      "Adding id=2 to object <__main__.Person object at 0x000001BE6C115B50>\n"
     ]
    }
   ],
   "source": [
    "p2 = Person(\"Eve\")"
   ]
  },
  {
   "cell_type": "code",
   "execution_count": 129,
   "metadata": {},
   "outputs": [
    {
     "data": {
      "text/plain": [
       "2"
      ]
     },
     "execution_count": 129,
     "metadata": {},
     "output_type": "execute_result"
    }
   ],
   "source": [
    "p2.id"
   ]
  },
  {
   "cell_type": "code",
   "execution_count": 130,
   "metadata": {},
   "outputs": [
    {
     "data": {
      "text/plain": [
       "2"
      ]
     },
     "execution_count": 130,
     "metadata": {},
     "output_type": "execute_result"
    }
   ],
   "source": [
    "Person.__id_gen"
   ]
  },
  {
   "cell_type": "code",
   "execution_count": null,
   "metadata": {},
   "outputs": [],
   "source": []
  }
 ],
 "metadata": {
  "kernelspec": {
   "display_name": "Python 3",
   "language": "python",
   "name": "python3"
  },
  "language_info": {
   "codemirror_mode": {
    "name": "ipython",
    "version": 3
   },
   "file_extension": ".py",
   "mimetype": "text/x-python",
   "name": "python",
   "nbconvert_exporter": "python",
   "pygments_lexer": "ipython3",
   "version": "3.11.2"
  },
  "orig_nbformat": 4
 },
 "nbformat": 4,
 "nbformat_minor": 2
}
