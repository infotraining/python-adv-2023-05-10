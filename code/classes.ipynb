{
 "cells": [
  {
   "attachments": {},
   "cell_type": "markdown",
   "metadata": {},
   "source": [
    "# Klasy"
   ]
  },
  {
   "attachments": {},
   "cell_type": "markdown",
   "metadata": {},
   "source": []
  },
  {
   "attachments": {},
   "cell_type": "markdown",
   "metadata": {},
   "source": [
    "# Metody __new__ & __init__"
   ]
  },
  {
   "cell_type": "code",
   "execution_count": 55,
   "metadata": {},
   "outputs": [],
   "source": [
    "class Dummy:\n",
    "    def __new__(cls, *args):\n",
    "        print(f\"Dummy.__new__({cls}, {args}) has been called...\")\n",
    "        obj = super().__new__(cls) # calling __new__ from object\n",
    "        obj.extra_attribute = \"Extra Attribute\"\n",
    "        print(f\"Object {obj} has been created...\")\n",
    "        return obj\n",
    "    \n",
    "    def __init__(self, *args):\n",
    "        print(f\"Object's __dict__: {self.__dict__}\")\n",
    "        print(f\"Dummy.__init__({self}, {args})...\")\n",
    "        self.args = args\n",
    "        print(f\"Object's __dict__: {self.__dict__}\")"
   ]
  },
  {
   "cell_type": "code",
   "execution_count": 56,
   "metadata": {},
   "outputs": [
    {
     "name": "stdout",
     "output_type": "stream",
     "text": [
      "Dummy.__new__(<class '__main__.Dummy'>, (1, 'One')) has been called...\n",
      "Object <__main__.Dummy object at 0x0000024D3872B8D0> has been created...\n",
      "Object's __dict__: {'extra_attribute': 'Extra Attribute'}\n",
      "Dummy.__init__(<__main__.Dummy object at 0x0000024D3872B8D0>, (1, 'One'))...\n",
      "Object's __dict__: {'extra_attribute': 'Extra Attribute', 'args': (1, 'One')}\n"
     ]
    }
   ],
   "source": [
    "d = Dummy(1, \"One\")"
   ]
  },
  {
   "attachments": {},
   "cell_type": "markdown",
   "metadata": {},
   "source": [
    "## Kiedy używać `__new__`?"
   ]
  },
  {
   "cell_type": "code",
   "execution_count": 57,
   "metadata": {},
   "outputs": [],
   "source": [
    "class UppercaseTuple(tuple):\n",
    "    def __init__(self, list) -> None:\n",
    "        print(f\"Start changes for {list}\")\n",
    "\n",
    "        for i, item in enumerate(list):\n",
    "            self[i] = item.upper()"
   ]
  },
  {
   "cell_type": "code",
   "execution_count": 58,
   "metadata": {},
   "outputs": [
    {
     "name": "stdout",
     "output_type": "stream",
     "text": [
      "Start changes for ['hello', 'world', '!']\n"
     ]
    },
    {
     "ename": "TypeError",
     "evalue": "'UppercaseTuple' object does not support item assignment",
     "output_type": "error",
     "traceback": [
      "\u001b[1;31m---------------------------------------------------------------------------\u001b[0m",
      "\u001b[1;31mTypeError\u001b[0m                                 Traceback (most recent call last)",
      "Cell \u001b[1;32mIn[58], line 1\u001b[0m\n\u001b[1;32m----> 1\u001b[0m UppercaseTuple([\u001b[39m\"\u001b[39;49m\u001b[39mhello\u001b[39;49m\u001b[39m\"\u001b[39;49m, \u001b[39m\"\u001b[39;49m\u001b[39mworld\u001b[39;49m\u001b[39m\"\u001b[39;49m, \u001b[39m\"\u001b[39;49m\u001b[39m!\u001b[39;49m\u001b[39m\"\u001b[39;49m])\n",
      "Cell \u001b[1;32mIn[57], line 6\u001b[0m, in \u001b[0;36mUppercaseTuple.__init__\u001b[1;34m(self, list)\u001b[0m\n\u001b[0;32m      3\u001b[0m \u001b[39mprint\u001b[39m(\u001b[39mf\u001b[39m\u001b[39m\"\u001b[39m\u001b[39mStart changes for \u001b[39m\u001b[39m{\u001b[39;00m\u001b[39mlist\u001b[39m\u001b[39m}\u001b[39;00m\u001b[39m\"\u001b[39m)\n\u001b[0;32m      5\u001b[0m \u001b[39mfor\u001b[39;00m i, item \u001b[39min\u001b[39;00m \u001b[39menumerate\u001b[39m(\u001b[39mlist\u001b[39m):\n\u001b[1;32m----> 6\u001b[0m     \u001b[39mself\u001b[39;49m[i] \u001b[39m=\u001b[39m item\u001b[39m.\u001b[39mupper()\n",
      "\u001b[1;31mTypeError\u001b[0m: 'UppercaseTuple' object does not support item assignment"
     ]
    }
   ],
   "source": [
    "UppercaseTuple([\"hello\", \"world\", \"!\"])"
   ]
  },
  {
   "cell_type": "code",
   "execution_count": 59,
   "metadata": {},
   "outputs": [],
   "source": [
    "class UppercaseTuple(tuple):\n",
    "    def __new__(cls, list):\n",
    "        print(f\"Start changes for {list}\")\n",
    "        new_content = [item.upper() for item in list]       \n",
    "        return super().__new__(cls, new_content)"
   ]
  },
  {
   "cell_type": "code",
   "execution_count": 60,
   "metadata": {},
   "outputs": [
    {
     "name": "stdout",
     "output_type": "stream",
     "text": [
      "Start changes for ['hello', 'world', '!']\n"
     ]
    },
    {
     "data": {
      "text/plain": [
       "('HELLO', 'WORLD', '!')"
      ]
     },
     "execution_count": 60,
     "metadata": {},
     "output_type": "execute_result"
    }
   ],
   "source": [
    "UppercaseTuple([\"hello\", \"world\", \"!\"])"
   ]
  },
  {
   "attachments": {},
   "cell_type": "markdown",
   "metadata": {},
   "source": [
    "# Dostęp do atrybutów"
   ]
  },
  {
   "cell_type": "code",
   "execution_count": 73,
   "metadata": {},
   "outputs": [],
   "source": [
    "from typing import Any\n",
    "\n",
    "\n",
    "class Record:\n",
    "    def __init__(self):\n",
    "        # Nie możemy użyć poniższego kodu:\n",
    "        #     self._d = {}\n",
    "        # ponieważ zakończyłby się on rekurencyjnym wywoływaniem metody __setattr__\n",
    "        super().__setattr__('_dict', {})\n",
    "\n",
    "    def __getattribute__(self, name: str) -> Any:\n",
    "        print('getting by __getattribute__', name)\n",
    "        return super().__getattribute__(name)\n",
    "\n",
    "    def __getattr__(self, name):\n",
    "        print('getting', name)\n",
    "        return self._dict[name]\n",
    "    \n",
    "    def __setattr__(self, name, value):\n",
    "        print('setting', name, 'to', value)\n",
    "        self._dict[name] = value\n",
    "        \n",
    "    def __delattr__(self, name):\n",
    "        print('deleting', name)\n",
    "        del self._dict[name]"
   ]
  },
  {
   "cell_type": "code",
   "execution_count": 74,
   "metadata": {},
   "outputs": [],
   "source": [
    "person = Record()"
   ]
  },
  {
   "cell_type": "code",
   "execution_count": 75,
   "metadata": {},
   "outputs": [
    {
     "name": "stdout",
     "output_type": "stream",
     "text": [
      "setting first_name to John\n",
      "getting by __getattribute__ _dict\n"
     ]
    }
   ],
   "source": [
    "person.first_name = \"John\""
   ]
  },
  {
   "cell_type": "code",
   "execution_count": 76,
   "metadata": {},
   "outputs": [
    {
     "name": "stdout",
     "output_type": "stream",
     "text": [
      "getting by __getattribute__ _dict\n"
     ]
    },
    {
     "data": {
      "text/plain": [
       "{'first_name': 'John'}"
      ]
     },
     "execution_count": 76,
     "metadata": {},
     "output_type": "execute_result"
    }
   ],
   "source": [
    "person._dict"
   ]
  },
  {
   "cell_type": "code",
   "execution_count": 77,
   "metadata": {},
   "outputs": [
    {
     "name": "stdout",
     "output_type": "stream",
     "text": [
      "getting by __getattribute__ first_name\n",
      "getting first_name\n",
      "getting by __getattribute__ _dict\n"
     ]
    },
    {
     "data": {
      "text/plain": [
       "'John'"
      ]
     },
     "execution_count": 77,
     "metadata": {},
     "output_type": "execute_result"
    }
   ],
   "source": [
    "person.first_name"
   ]
  },
  {
   "cell_type": "code",
   "execution_count": 65,
   "metadata": {},
   "outputs": [
    {
     "name": "stdout",
     "output_type": "stream",
     "text": [
      "deleting first_name\n"
     ]
    }
   ],
   "source": [
    "del person.first_name"
   ]
  },
  {
   "cell_type": "code",
   "execution_count": 67,
   "metadata": {},
   "outputs": [
    {
     "data": {
      "text/plain": [
       "{}"
      ]
     },
     "execution_count": 67,
     "metadata": {},
     "output_type": "execute_result"
    }
   ],
   "source": [
    "person._dict"
   ]
  },
  {
   "cell_type": "code",
   "execution_count": 72,
   "metadata": {},
   "outputs": [
    {
     "data": {
      "text/plain": [
       "{'_dict': {'first_name': 'John'}}"
      ]
     },
     "execution_count": 72,
     "metadata": {},
     "output_type": "execute_result"
    }
   ],
   "source": [
    "person.__dict__"
   ]
  },
  {
   "cell_type": "code",
   "execution_count": 84,
   "metadata": {},
   "outputs": [],
   "source": [
    "import datetime\n",
    "\n",
    "\n",
    "class Foo:\n",
    "    def __init__(self):\n",
    "        self.a = \"Foo.a\"\n",
    "\n",
    "    def __getattr__(self, attribute):\n",
    "        return f\"You asked for {attribute}, but I'm giving you a default str\"\n",
    "\n",
    "\n",
    "class Bar:\n",
    "    attribute_access_log = []\n",
    "\n",
    "    def __init__(self):\n",
    "        self.a = \"Bar.a\"\n",
    "\n",
    "    def __getattribute__(self, attribute):\n",
    "        Bar.attribute_access_log.append(\n",
    "            f\"Access to {self}.{attribute} at {datetime.datetime.now()}\")\n",
    "        print(f\"You asked for {attribute}\")\n",
    "        return super().__getattribute__(attribute)"
   ]
  },
  {
   "cell_type": "code",
   "execution_count": 85,
   "metadata": {},
   "outputs": [],
   "source": [
    "foo = Foo()"
   ]
  },
  {
   "cell_type": "code",
   "execution_count": 86,
   "metadata": {},
   "outputs": [
    {
     "data": {
      "text/plain": [
       "'Foo.a'"
      ]
     },
     "execution_count": 86,
     "metadata": {},
     "output_type": "execute_result"
    }
   ],
   "source": [
    "foo.a"
   ]
  },
  {
   "cell_type": "code",
   "execution_count": 87,
   "metadata": {},
   "outputs": [
    {
     "data": {
      "text/plain": [
       "\"You asked for b, but I'm giving you a default str\""
      ]
     },
     "execution_count": 87,
     "metadata": {},
     "output_type": "execute_result"
    }
   ],
   "source": [
    "foo.b"
   ]
  },
  {
   "cell_type": "code",
   "execution_count": 88,
   "metadata": {},
   "outputs": [
    {
     "name": "stdout",
     "output_type": "stream",
     "text": [
      "You asked for __class__\n",
      "You asked for __class__\n",
      "You asked for __class__\n",
      "You asked for __class__\n"
     ]
    }
   ],
   "source": [
    "bar = Bar()"
   ]
  },
  {
   "cell_type": "code",
   "execution_count": 89,
   "metadata": {},
   "outputs": [
    {
     "name": "stdout",
     "output_type": "stream",
     "text": [
      "You asked for a\n"
     ]
    },
    {
     "data": {
      "text/plain": [
       "'Bar.a'"
      ]
     },
     "execution_count": 89,
     "metadata": {},
     "output_type": "execute_result"
    }
   ],
   "source": [
    "bar.a"
   ]
  },
  {
   "cell_type": "code",
   "execution_count": 90,
   "metadata": {},
   "outputs": [
    {
     "name": "stdout",
     "output_type": "stream",
     "text": [
      "You asked for b\n"
     ]
    },
    {
     "ename": "AttributeError",
     "evalue": "'Bar' object has no attribute 'b'",
     "output_type": "error",
     "traceback": [
      "\u001b[1;31m---------------------------------------------------------------------------\u001b[0m",
      "\u001b[1;31mAttributeError\u001b[0m                            Traceback (most recent call last)",
      "Cell \u001b[1;32mIn[90], line 1\u001b[0m\n\u001b[1;32m----> 1\u001b[0m bar\u001b[39m.\u001b[39;49mb\n",
      "Cell \u001b[1;32mIn[84], line 22\u001b[0m, in \u001b[0;36mBar.__getattribute__\u001b[1;34m(self, attribute)\u001b[0m\n\u001b[0;32m     19\u001b[0m Bar\u001b[39m.\u001b[39mattribute_access_log\u001b[39m.\u001b[39mappend(\n\u001b[0;32m     20\u001b[0m     \u001b[39mf\u001b[39m\u001b[39m\"\u001b[39m\u001b[39mAccess to \u001b[39m\u001b[39m{\u001b[39;00m\u001b[39mself\u001b[39m\u001b[39m}\u001b[39;00m\u001b[39m.\u001b[39m\u001b[39m{\u001b[39;00mattribute\u001b[39m}\u001b[39;00m\u001b[39m at \u001b[39m\u001b[39m{\u001b[39;00mdatetime\u001b[39m.\u001b[39mdatetime\u001b[39m.\u001b[39mnow()\u001b[39m}\u001b[39;00m\u001b[39m\"\u001b[39m)\n\u001b[0;32m     21\u001b[0m \u001b[39mprint\u001b[39m(\u001b[39mf\u001b[39m\u001b[39m\"\u001b[39m\u001b[39mYou asked for \u001b[39m\u001b[39m{\u001b[39;00mattribute\u001b[39m}\u001b[39;00m\u001b[39m\"\u001b[39m)\n\u001b[1;32m---> 22\u001b[0m \u001b[39mreturn\u001b[39;00m \u001b[39msuper\u001b[39;49m()\u001b[39m.\u001b[39;49m\u001b[39m__getattribute__\u001b[39;49m(attribute)\n",
      "\u001b[1;31mAttributeError\u001b[0m: 'Bar' object has no attribute 'b'"
     ]
    }
   ],
   "source": [
    "bar.b"
   ]
  },
  {
   "cell_type": "code",
   "execution_count": 91,
   "metadata": {},
   "outputs": [
    {
     "name": "stdout",
     "output_type": "stream",
     "text": [
      "You asked for attribute_access_log\n"
     ]
    },
    {
     "data": {
      "text/plain": [
       "['Access to <__main__.Bar object at 0x0000024D387AE010>.__class__ at 2023-05-10 13:35:49.870746',\n",
       " 'Access to <__main__.Bar object at 0x0000024D387AE010>.__class__ at 2023-05-10 13:35:49.870746',\n",
       " 'Access to <__main__.Bar object at 0x0000024D387AE010>.__class__ at 2023-05-10 13:35:49.870746',\n",
       " 'Access to <__main__.Bar object at 0x0000024D387AE010>.__class__ at 2023-05-10 13:35:49.870746',\n",
       " 'Access to <__main__.Bar object at 0x0000024D38214D90>.__dict__ at 2023-05-10 13:36:04.942671',\n",
       " 'Access to <__main__.Bar object at 0x0000024D38214D90>.__class__ at 2023-05-10 13:36:04.942671',\n",
       " 'Access to <__main__.Bar object at 0x0000024D38214D90>.__class__ at 2023-05-10 13:36:04.942671',\n",
       " 'Access to <__main__.Bar object at 0x0000024D38214D90>.__class__ at 2023-05-10 13:36:04.942671',\n",
       " 'Access to <__main__.Bar object at 0x0000024D38214D90>.__class__ at 2023-05-10 13:36:04.942671',\n",
       " 'Access to <__main__.Bar object at 0x0000024D38214D90>.a at 2023-05-10 13:36:06.167045',\n",
       " 'Access to <__main__.Bar object at 0x0000024D38214D90>.__dict__ at 2023-05-10 13:36:15.402399',\n",
       " 'Access to <__main__.Bar object at 0x0000024D38214D90>.__class__ at 2023-05-10 13:36:15.402399',\n",
       " 'Access to <__main__.Bar object at 0x0000024D38214D90>.__class__ at 2023-05-10 13:36:15.402399',\n",
       " 'Access to <__main__.Bar object at 0x0000024D38214D90>.__class__ at 2023-05-10 13:36:15.402399',\n",
       " 'Access to <__main__.Bar object at 0x0000024D38214D90>.__class__ at 2023-05-10 13:36:15.402399',\n",
       " 'Access to <__main__.Bar object at 0x0000024D38214D90>.b at 2023-05-10 13:36:17.521043',\n",
       " 'Access to <__main__.Bar object at 0x0000024D38214D90>.__dict__ at 2023-05-10 13:36:23.661774',\n",
       " 'Access to <__main__.Bar object at 0x0000024D38214D90>.__class__ at 2023-05-10 13:36:23.661774',\n",
       " 'Access to <__main__.Bar object at 0x0000024D38214D90>.__class__ at 2023-05-10 13:36:23.661774',\n",
       " 'Access to <__main__.Bar object at 0x0000024D38214D90>.__class__ at 2023-05-10 13:36:23.661774',\n",
       " 'Access to <__main__.Bar object at 0x0000024D38214D90>.__class__ at 2023-05-10 13:36:23.661774',\n",
       " 'Access to <__main__.Bar object at 0x0000024D38214D90>.attribute_access_log at 2023-05-10 13:36:26.345816']"
      ]
     },
     "execution_count": 91,
     "metadata": {},
     "output_type": "execute_result"
    }
   ],
   "source": [
    "bar.attribute_access_log"
   ]
  },
  {
   "attachments": {},
   "cell_type": "markdown",
   "metadata": {},
   "source": [
    "# Składowe private i protected"
   ]
  },
  {
   "cell_type": "code",
   "execution_count": 108,
   "metadata": {},
   "outputs": [],
   "source": [
    "class BankAccount:\n",
    "    def __init__(self, initial_balance: float):\n",
    "        self.__balance = initial_balance\n",
    "        self._withdrawal_limit = 100\n",
    "\n",
    "    @property\n",
    "    def balance(self) -> float:\n",
    "        return self.__balance\n",
    "    \n",
    "    def __check_amount(self, amount: float):  # private only by convention\n",
    "        if amount <= 0:\n",
    "            raise ValueError(\"value cannot be negative\")\n",
    "    \n",
    "class DebitBankAccount(BankAccount):\n",
    "    def __init__(self, initial_balance: float):\n",
    "        super().__init__(initial_balance)\n",
    "\n",
    "    def withdraw(self, amount: float):\n",
    "        self.__check_amount(amount)\n",
    "        if amount > self._withdrawal_limit:\n",
    "            raise ValueError(\"amount too large\")"
   ]
  },
  {
   "cell_type": "code",
   "execution_count": 100,
   "metadata": {},
   "outputs": [],
   "source": [
    "account_1 = BankAccount(1000)"
   ]
  },
  {
   "cell_type": "code",
   "execution_count": 101,
   "metadata": {},
   "outputs": [
    {
     "data": {
      "text/plain": [
       "1000"
      ]
     },
     "execution_count": 101,
     "metadata": {},
     "output_type": "execute_result"
    }
   ],
   "source": [
    "account_1.balance"
   ]
  },
  {
   "cell_type": "code",
   "execution_count": 102,
   "metadata": {},
   "outputs": [
    {
     "ename": "AttributeError",
     "evalue": "property 'balance' of 'BankAccount' object has no setter",
     "output_type": "error",
     "traceback": [
      "\u001b[1;31m---------------------------------------------------------------------------\u001b[0m",
      "\u001b[1;31mAttributeError\u001b[0m                            Traceback (most recent call last)",
      "Cell \u001b[1;32mIn[102], line 1\u001b[0m\n\u001b[1;32m----> 1\u001b[0m account_1\u001b[39m.\u001b[39;49mbalance \u001b[39m=\u001b[39m \u001b[39m100\u001b[39m\n",
      "\u001b[1;31mAttributeError\u001b[0m: property 'balance' of 'BankAccount' object has no setter"
     ]
    }
   ],
   "source": [
    "account_1.balance = 100"
   ]
  },
  {
   "cell_type": "code",
   "execution_count": 96,
   "metadata": {},
   "outputs": [],
   "source": [
    "account_1._BankAccount__balance = 100"
   ]
  },
  {
   "cell_type": "code",
   "execution_count": 97,
   "metadata": {},
   "outputs": [
    {
     "data": {
      "text/plain": [
       "100"
      ]
     },
     "execution_count": 97,
     "metadata": {},
     "output_type": "execute_result"
    }
   ],
   "source": [
    "account_1.balance"
   ]
  },
  {
   "cell_type": "code",
   "execution_count": 106,
   "metadata": {},
   "outputs": [
    {
     "ename": "ValueError",
     "evalue": "amount too large",
     "output_type": "error",
     "traceback": [
      "\u001b[1;31m---------------------------------------------------------------------------\u001b[0m",
      "\u001b[1;31mValueError\u001b[0m                                Traceback (most recent call last)",
      "Cell \u001b[1;32mIn[106], line 2\u001b[0m\n\u001b[0;32m      1\u001b[0m debit_account \u001b[39m=\u001b[39m DebitBankAccount(\u001b[39m1000\u001b[39m)\n\u001b[1;32m----> 2\u001b[0m debit_account\u001b[39m.\u001b[39;49mwithdraw(\u001b[39m400\u001b[39;49m)\n",
      "Cell \u001b[1;32mIn[105], line 21\u001b[0m, in \u001b[0;36mDebitBankAccount.withdraw\u001b[1;34m(self, amount)\u001b[0m\n\u001b[0;32m     19\u001b[0m \u001b[39mself\u001b[39m\u001b[39m.\u001b[39m__check_amount(amount);\n\u001b[0;32m     20\u001b[0m \u001b[39mif\u001b[39;00m amount \u001b[39m>\u001b[39m \u001b[39mself\u001b[39m\u001b[39m.\u001b[39m_withdrawal_limit:\n\u001b[1;32m---> 21\u001b[0m     \u001b[39mraise\u001b[39;00m \u001b[39mValueError\u001b[39;00m(\u001b[39m\"\u001b[39m\u001b[39mamount too large\u001b[39m\u001b[39m\"\u001b[39m)\n",
      "\u001b[1;31mValueError\u001b[0m: amount too large"
     ]
    }
   ],
   "source": [
    "debit_account = DebitBankAccount(1000)\n",
    "debit_account.withdraw(400)"
   ]
  },
  {
   "cell_type": "code",
   "execution_count": 109,
   "metadata": {},
   "outputs": [
    {
     "ename": "ValueError",
     "evalue": "value cannot be negative",
     "output_type": "error",
     "traceback": [
      "\u001b[1;31m---------------------------------------------------------------------------\u001b[0m",
      "\u001b[1;31mValueError\u001b[0m                                Traceback (most recent call last)",
      "Cell \u001b[1;32mIn[109], line 1\u001b[0m\n\u001b[1;32m----> 1\u001b[0m debit_account\u001b[39m.\u001b[39;49mwithdraw(\u001b[39m-\u001b[39;49m\u001b[39m29\u001b[39;49m)\n",
      "Cell \u001b[1;32mIn[105], line 19\u001b[0m, in \u001b[0;36mDebitBankAccount.withdraw\u001b[1;34m(self, amount)\u001b[0m\n\u001b[0;32m     18\u001b[0m \u001b[39mdef\u001b[39;00m \u001b[39mwithdraw\u001b[39m(\u001b[39mself\u001b[39m, amount: \u001b[39mfloat\u001b[39m):\n\u001b[1;32m---> 19\u001b[0m     \u001b[39mself\u001b[39;49m\u001b[39m.\u001b[39;49m__check_amount(amount);\n\u001b[0;32m     20\u001b[0m     \u001b[39mif\u001b[39;00m amount \u001b[39m>\u001b[39m \u001b[39mself\u001b[39m\u001b[39m.\u001b[39m_withdrawal_limit:\n\u001b[0;32m     21\u001b[0m         \u001b[39mraise\u001b[39;00m \u001b[39mValueError\u001b[39;00m(\u001b[39m\"\u001b[39m\u001b[39mamount too large\u001b[39m\u001b[39m\"\u001b[39m)\n",
      "Cell \u001b[1;32mIn[105], line 16\u001b[0m, in \u001b[0;36mDebitBankAccount.__check_amount\u001b[1;34m(self, amount)\u001b[0m\n\u001b[0;32m     14\u001b[0m \u001b[39mdef\u001b[39;00m \u001b[39m__check_amount\u001b[39m(\u001b[39mself\u001b[39m, amount: \u001b[39mfloat\u001b[39m):\n\u001b[0;32m     15\u001b[0m     \u001b[39mif\u001b[39;00m amount \u001b[39m<\u001b[39m\u001b[39m=\u001b[39m \u001b[39m0\u001b[39m:\n\u001b[1;32m---> 16\u001b[0m         \u001b[39mraise\u001b[39;00m \u001b[39mValueError\u001b[39;00m(\u001b[39m\"\u001b[39m\u001b[39mvalue cannot be negative\u001b[39m\u001b[39m\"\u001b[39m)\n",
      "\u001b[1;31mValueError\u001b[0m: value cannot be negative"
     ]
    }
   ],
   "source": [
    "debit_account.withdraw(-29)"
   ]
  },
  {
   "attachments": {},
   "cell_type": "markdown",
   "metadata": {},
   "source": [
    "# Składowe statyczne"
   ]
  },
  {
   "cell_type": "code",
   "execution_count": 114,
   "metadata": {},
   "outputs": [],
   "source": [
    "class CountedObject(object):\n",
    "    count = 0   # statyczna składowa\n",
    "    \n",
    "    def __init__(self):\n",
    "        CountedObject.count += 1\n",
    "\n",
    "    def __del__(self):\n",
    "        CountedObject.count -= 1\n",
    "    \n",
    "    @staticmethod  # statyczna metoda\n",
    "    def get_count():\n",
    "        return CountedObject.count"
   ]
  },
  {
   "cell_type": "code",
   "execution_count": 116,
   "metadata": {},
   "outputs": [],
   "source": [
    "lst = [CountedObject() for i in range(10)]"
   ]
  },
  {
   "cell_type": "code",
   "execution_count": 117,
   "metadata": {},
   "outputs": [],
   "source": [
    "del lst[0]"
   ]
  },
  {
   "cell_type": "code",
   "execution_count": 118,
   "metadata": {},
   "outputs": [
    {
     "data": {
      "text/plain": [
       "9"
      ]
     },
     "execution_count": 118,
     "metadata": {},
     "output_type": "execute_result"
    }
   ],
   "source": [
    "CountedObject.count"
   ]
  },
  {
   "cell_type": "code",
   "execution_count": 139,
   "metadata": {},
   "outputs": [],
   "source": [
    "class Person:\n",
    "    age = 18 # class member as default value\n",
    "\n",
    "    def __init__(self, name: str):\n",
    "        self.name = name    \n",
    "        "
   ]
  },
  {
   "cell_type": "code",
   "execution_count": 140,
   "metadata": {},
   "outputs": [],
   "source": [
    "p1 = Person(\"John\")"
   ]
  },
  {
   "cell_type": "code",
   "execution_count": 141,
   "metadata": {},
   "outputs": [
    {
     "data": {
      "text/plain": [
       "'John'"
      ]
     },
     "execution_count": 141,
     "metadata": {},
     "output_type": "execute_result"
    }
   ],
   "source": [
    "p1.name"
   ]
  },
  {
   "cell_type": "code",
   "execution_count": 142,
   "metadata": {},
   "outputs": [
    {
     "data": {
      "text/plain": [
       "18"
      ]
     },
     "execution_count": 142,
     "metadata": {},
     "output_type": "execute_result"
    }
   ],
   "source": [
    "p1.age # getting default value"
   ]
  },
  {
   "cell_type": "code",
   "execution_count": 135,
   "metadata": {},
   "outputs": [],
   "source": [
    "p1.age = 66 # assigning new value for the instance"
   ]
  },
  {
   "cell_type": "code",
   "execution_count": 136,
   "metadata": {},
   "outputs": [
    {
     "data": {
      "text/plain": [
       "66"
      ]
     },
     "execution_count": 136,
     "metadata": {},
     "output_type": "execute_result"
    }
   ],
   "source": [
    "p1.age"
   ]
  },
  {
   "cell_type": "code",
   "execution_count": 137,
   "metadata": {},
   "outputs": [],
   "source": [
    "p2 = Person(\"Eve\")"
   ]
  },
  {
   "cell_type": "code",
   "execution_count": 138,
   "metadata": {},
   "outputs": [
    {
     "data": {
      "text/plain": [
       "18"
      ]
     },
     "execution_count": 138,
     "metadata": {},
     "output_type": "execute_result"
    }
   ],
   "source": [
    "p2.age # default value"
   ]
  },
  {
   "cell_type": "code",
   "execution_count": 152,
   "metadata": {},
   "outputs": [],
   "source": [
    "class Date:\n",
    "    year = 2023\n",
    "\n",
    "    def __init__(self, day, month, year = None):\n",
    "        self.day = day\n",
    "        self.month = month\n",
    "        if year:\n",
    "            self.year = year \n",
    "    \n",
    "    @classmethod\n",
    "    def from_string(cls, date_as_string):        \n",
    "        day, month, year = date_as_string.split('-')\n",
    "        return cls(int(day), int(month), int(year)) # utworzenie instancji klasy cls\n",
    "\n",
    "    @classmethod\n",
    "    def update_default_year(cls, value):\n",
    "        cls.year = value"
   ]
  },
  {
   "cell_type": "code",
   "execution_count": 155,
   "metadata": {},
   "outputs": [],
   "source": [
    "d1 = Date(20, 1)"
   ]
  },
  {
   "attachments": {},
   "cell_type": "markdown",
   "metadata": {},
   "source": []
  },
  {
   "cell_type": "code",
   "execution_count": 156,
   "metadata": {},
   "outputs": [
    {
     "data": {
      "text/plain": [
       "2023"
      ]
     },
     "execution_count": 156,
     "metadata": {},
     "output_type": "execute_result"
    }
   ],
   "source": [
    "d1.year"
   ]
  },
  {
   "cell_type": "code",
   "execution_count": 157,
   "metadata": {},
   "outputs": [],
   "source": [
    "d2 = Date(20, 3)"
   ]
  },
  {
   "cell_type": "code",
   "execution_count": 158,
   "metadata": {},
   "outputs": [
    {
     "data": {
      "text/plain": [
       "2023"
      ]
     },
     "execution_count": 158,
     "metadata": {},
     "output_type": "execute_result"
    }
   ],
   "source": [
    "d2.year"
   ]
  },
  {
   "cell_type": "code",
   "execution_count": 159,
   "metadata": {},
   "outputs": [],
   "source": [
    "Date.update_default_year(2222)"
   ]
  },
  {
   "cell_type": "code",
   "execution_count": 161,
   "metadata": {},
   "outputs": [
    {
     "data": {
      "text/plain": [
       "{'day': 20, 'month': 1}"
      ]
     },
     "execution_count": 161,
     "metadata": {},
     "output_type": "execute_result"
    }
   ],
   "source": [
    "d1.__dict__"
   ]
  },
  {
   "cell_type": "code",
   "execution_count": 162,
   "metadata": {},
   "outputs": [
    {
     "data": {
      "text/plain": [
       "mappingproxy({'__module__': '__main__',\n",
       "              'year': 2222,\n",
       "              '__init__': <function __main__.Date.__init__(self, day, month, year=None)>,\n",
       "              'from_string': <classmethod(<function Date.from_string at 0x0000024D388F6980>)>,\n",
       "              'update_default_year': <classmethod(<function Date.update_default_year at 0x0000024D388F68E0>)>,\n",
       "              '__dict__': <attribute '__dict__' of 'Date' objects>,\n",
       "              '__weakref__': <attribute '__weakref__' of 'Date' objects>,\n",
       "              '__doc__': None})"
      ]
     },
     "execution_count": 162,
     "metadata": {},
     "output_type": "execute_result"
    }
   ],
   "source": [
    "Date.__dict__"
   ]
  },
  {
   "cell_type": "code",
   "execution_count": 160,
   "metadata": {},
   "outputs": [
    {
     "data": {
      "text/plain": [
       "2222"
      ]
     },
     "execution_count": 160,
     "metadata": {},
     "output_type": "execute_result"
    }
   ],
   "source": [
    "d1.year"
   ]
  },
  {
   "attachments": {},
   "cell_type": "markdown",
   "metadata": {},
   "source": [
    "# Deskryptor"
   ]
  },
  {
   "attachments": {},
   "cell_type": "markdown",
   "metadata": {},
   "source": [
    "## Non-data descriptor"
   ]
  },
  {
   "cell_type": "code",
   "execution_count": 163,
   "metadata": {},
   "outputs": [],
   "source": [
    "import os\n",
    "\n",
    "class DirectorySize:\n",
    "    def __get__(self, instance, owner_class):\n",
    "        return len(os.listdir(instance.directory_name))\n",
    "    \n",
    "\n",
    "class Directory: # owner class\n",
    "    size = DirectorySize() # descriptor instance\n",
    "\n",
    "    def __init__(self, directory_name):\n",
    "        self.directory_name = directory_name # regular instance attribute"
   ]
  },
  {
   "cell_type": "code",
   "execution_count": 164,
   "metadata": {},
   "outputs": [],
   "source": [
    "local_dir = Directory('.')"
   ]
  },
  {
   "cell_type": "code",
   "execution_count": 165,
   "metadata": {},
   "outputs": [
    {
     "data": {
      "text/plain": [
       "{'directory_name': '.'}"
      ]
     },
     "execution_count": 165,
     "metadata": {},
     "output_type": "execute_result"
    }
   ],
   "source": [
    "local_dir.__dict__"
   ]
  },
  {
   "cell_type": "code",
   "execution_count": 166,
   "metadata": {},
   "outputs": [
    {
     "data": {
      "text/plain": [
       "3"
      ]
     },
     "execution_count": 166,
     "metadata": {},
     "output_type": "execute_result"
    }
   ],
   "source": [
    "local_dir.size"
   ]
  },
  {
   "attachments": {},
   "cell_type": "markdown",
   "metadata": {},
   "source": [
    "## Data descriptor"
   ]
  },
  {
   "cell_type": "code",
   "execution_count": 184,
   "metadata": {},
   "outputs": [],
   "source": [
    "import logging\n",
    "\n",
    "logging.basicConfig(level=logging.INFO)\n",
    "\n",
    "class LoggedAccess: # Data descriptor\n",
    "\n",
    "    def __set_name__(self, owner, name):\n",
    "        self.public_name = name\n",
    "        self.private_name = '_' + name\n",
    "        logging.info('Setting names: %r and %r', self.public_name, self.private_name)\n",
    "\n",
    "    def __get__(self, instance, owner_class=None):\n",
    "        value = getattr(instance, self.private_name)\n",
    "        logging.info('Accessing %r.%r giving %r', instance, self.public_name, value)\n",
    "        return value\n",
    "\n",
    "    def __set__(self, instance, value):\n",
    "        logging.info('Updating %r.%r to %r', instance, self.public_name, value)\n",
    "        setattr(instance, self.private_name, value)"
   ]
  },
  {
   "cell_type": "code",
   "execution_count": 185,
   "metadata": {},
   "outputs": [
    {
     "name": "stderr",
     "output_type": "stream",
     "text": [
      "INFO:root:Setting names: 'name' and '_name'\n",
      "INFO:root:Setting names: 'age' and '_age'\n"
     ]
    }
   ],
   "source": [
    "class Person:\n",
    "    name = LoggedAccess()\n",
    "    age = LoggedAccess()\n",
    "    \n",
    "    # Descriptor instance\n",
    "    def __init__(self, name, age):\n",
    "        self.name = name                # Regular instance attribute\n",
    "        self.age = age                  # Calls __set__()\n",
    "\n",
    "    def birthday(self):\n",
    "        self.age += 1  "
   ]
  },
  {
   "cell_type": "code",
   "execution_count": 179,
   "metadata": {},
   "outputs": [
    {
     "name": "stderr",
     "output_type": "stream",
     "text": [
      "INFO:root:Updating <__main__.Person object at 0x0000024D388B6910>.'__name' to 'John'\n",
      "INFO:root:Updating <__main__.Person object at 0x0000024D388B6910>.'__age' to 42\n"
     ]
    }
   ],
   "source": [
    "p1 = Person(\"John\", 42)"
   ]
  },
  {
   "cell_type": "code",
   "execution_count": 180,
   "metadata": {},
   "outputs": [
    {
     "data": {
      "text/plain": [
       "{'__name': 'John', '__age': 42}"
      ]
     },
     "execution_count": 180,
     "metadata": {},
     "output_type": "execute_result"
    }
   ],
   "source": [
    "p1.__dict__"
   ]
  },
  {
   "cell_type": "code",
   "execution_count": 181,
   "metadata": {},
   "outputs": [
    {
     "name": "stderr",
     "output_type": "stream",
     "text": [
      "INFO:root:Accessing <__main__.Person object at 0x0000024D388B6910>.'__age' giving 42\n"
     ]
    },
    {
     "data": {
      "text/plain": [
       "42"
      ]
     },
     "execution_count": 181,
     "metadata": {},
     "output_type": "execute_result"
    }
   ],
   "source": [
    "p1.age"
   ]
  },
  {
   "cell_type": "code",
   "execution_count": 182,
   "metadata": {},
   "outputs": [
    {
     "name": "stderr",
     "output_type": "stream",
     "text": [
      "INFO:root:Accessing <__main__.Person object at 0x0000024D388B6910>.'__age' giving 42\n",
      "INFO:root:Updating <__main__.Person object at 0x0000024D388B6910>.'__age' to 43\n"
     ]
    }
   ],
   "source": [
    "p1.birthday()"
   ]
  },
  {
   "cell_type": "code",
   "execution_count": 173,
   "metadata": {},
   "outputs": [
    {
     "name": "stderr",
     "output_type": "stream",
     "text": [
      "INFO:root:Accessing <__main__.Person object at 0x0000024D3884A4D0>.'age' giving 43\n"
     ]
    },
    {
     "data": {
      "text/plain": [
       "43"
      ]
     },
     "execution_count": 173,
     "metadata": {},
     "output_type": "execute_result"
    }
   ],
   "source": [
    "p1.age"
   ]
  },
  {
   "cell_type": "code",
   "execution_count": 189,
   "metadata": {},
   "outputs": [
    {
     "name": "stdout",
     "output_type": "stream",
     "text": [
      "Setting a private name: _even\n"
     ]
    }
   ],
   "source": [
    "from typing import Any, Callable\n",
    "\n",
    "\n",
    "class ValidatedAttribute:\n",
    "    \"\"\"Data descriptor\"\"\"\n",
    "\n",
    "    def __init__(self, validator: Callable[..., bool]) -> None:\n",
    "        self.validator = validator\n",
    "\n",
    "    def __set_name__(self, owner, name):\n",
    "        self.private_name = '_' + name\n",
    "        print(f'Setting a private name: {self.private_name}')\n",
    "\n",
    "    def __get__(self, instance: Any, owner: type):\n",
    "        print(\"ValidatedAttribute.__get__\")\n",
    "        print(f\"..........self: {self}\")\n",
    "        print(f\"......instance: {instance}\")\n",
    "        print(f\".........owner: {owner}\")\n",
    "        #return getattr(instance, self.private_name)\n",
    "        return \"42\"\n",
    "\n",
    "    def __set__(self, instance, value):\n",
    "        print(\"ValidatedAttribute.__set__\")\n",
    "        print(f\"..........self: {self}\")\n",
    "        print(f\"......instance: {instance}\")\n",
    "        print(f\".........value: {value}\")\n",
    "        if self.validator(value):\n",
    "            setattr(instance, self.private_name, value)\n",
    "        else:\n",
    "            raise AttributeError(\"Attribute validation failed\")\n",
    "        \n",
    "    def __delete__(self, instance: Any) -> None:\n",
    "        print(\"ValidatedAttribute.__delete__\")\n",
    "        print(f\"..........self: {self}\")\n",
    "        print(f\"......instance: {instance}\")\n",
    "        setattr(instance, self.private_name, None)\n",
    "\n",
    "\n",
    "# owner class\n",
    "class Data:\n",
    "    even = ValidatedAttribute(lambda n: n % 2 == 0) # must be even\n",
    "\n",
    "    def __init__(self, value):\n",
    "        self.even = value"
   ]
  },
  {
   "cell_type": "code",
   "execution_count": 187,
   "metadata": {},
   "outputs": [
    {
     "name": "stdout",
     "output_type": "stream",
     "text": [
      "ValidatedAttribute.__set__\n",
      "..........self: <__main__.ValidatedAttribute object at 0x0000024D36C8A210>\n",
      "......instance: <__main__.Data object at 0x0000024D387D4B90>\n",
      ".........value: 24\n"
     ]
    }
   ],
   "source": [
    "d1 = Data(24)"
   ]
  },
  {
   "cell_type": "code",
   "execution_count": 188,
   "metadata": {},
   "outputs": [
    {
     "name": "stdout",
     "output_type": "stream",
     "text": [
      "ValidatedAttribute.__set__\n",
      "..........self: <__main__.ValidatedAttribute object at 0x0000024D36C8A210>\n",
      "......instance: <__main__.Data object at 0x0000024D387D4B90>\n",
      ".........value: 13\n"
     ]
    },
    {
     "ename": "AttributeError",
     "evalue": "Attribute validation failed",
     "output_type": "error",
     "traceback": [
      "\u001b[1;31m---------------------------------------------------------------------------\u001b[0m",
      "\u001b[1;31mAttributeError\u001b[0m                            Traceback (most recent call last)",
      "Cell \u001b[1;32mIn[188], line 1\u001b[0m\n\u001b[1;32m----> 1\u001b[0m d1\u001b[39m.\u001b[39;49meven \u001b[39m=\u001b[39m \u001b[39m13\u001b[39m\n",
      "Cell \u001b[1;32mIn[186], line 29\u001b[0m, in \u001b[0;36mValidatedAttribute.__set__\u001b[1;34m(self, instance, value)\u001b[0m\n\u001b[0;32m     27\u001b[0m     \u001b[39msetattr\u001b[39m(instance, \u001b[39mself\u001b[39m\u001b[39m.\u001b[39mprivate_name, value)\n\u001b[0;32m     28\u001b[0m \u001b[39melse\u001b[39;00m:\n\u001b[1;32m---> 29\u001b[0m     \u001b[39mraise\u001b[39;00m \u001b[39mAttributeError\u001b[39;00m(\u001b[39m\"\u001b[39m\u001b[39mAttribute validation failed\u001b[39m\u001b[39m\"\u001b[39m)\n",
      "\u001b[1;31mAttributeError\u001b[0m: Attribute validation failed"
     ]
    }
   ],
   "source": [
    "d1.even = 13"
   ]
  },
  {
   "attachments": {},
   "cell_type": "markdown",
   "metadata": {},
   "source": [
    "# Slots"
   ]
  },
  {
   "cell_type": "code",
   "execution_count": null,
   "metadata": {},
   "outputs": [],
   "source": [
    "class Pixel:\n",
    "    # __slots__ =  ('x', 'y')\n",
    "\n",
    "    def __init__(self, x, y):\n",
    "        self.x = x\n",
    "        self.y = y\n",
    "\n",
    "\n",
    "class ColorPixel(Pixel):\n",
    "    __slots__ = ('color')\n",
    "\n",
    "    def __init__(self, x, y, color = 0):\n",
    "        super().__init__(x, y)\n",
    "        self.color = color"
   ]
  },
  {
   "cell_type": "code",
   "execution_count": null,
   "metadata": {},
   "outputs": [],
   "source": [
    "p1 = Pixel(100, 200)"
   ]
  },
  {
   "cell_type": "code",
   "execution_count": null,
   "metadata": {},
   "outputs": [],
   "source": [
    "p1.x"
   ]
  },
  {
   "cell_type": "code",
   "execution_count": null,
   "metadata": {},
   "outputs": [],
   "source": [
    "p1.__dict__"
   ]
  },
  {
   "cell_type": "code",
   "execution_count": null,
   "metadata": {},
   "outputs": [],
   "source": [
    "p1.z = 100"
   ]
  },
  {
   "cell_type": "code",
   "execution_count": null,
   "metadata": {},
   "outputs": [],
   "source": [
    "cp = ColorPixel(100, 300)"
   ]
  },
  {
   "cell_type": "code",
   "execution_count": null,
   "metadata": {},
   "outputs": [],
   "source": [
    "cp.__dict__"
   ]
  },
  {
   "cell_type": "code",
   "execution_count": null,
   "metadata": {},
   "outputs": [],
   "source": [
    "cp.__slots__"
   ]
  },
  {
   "cell_type": "code",
   "execution_count": null,
   "metadata": {},
   "outputs": [],
   "source": [
    "cp.x"
   ]
  },
  {
   "cell_type": "code",
   "execution_count": null,
   "metadata": {},
   "outputs": [],
   "source": [
    "ColorPixel.__slots__"
   ]
  },
  {
   "attachments": {},
   "cell_type": "markdown",
   "metadata": {},
   "source": [
    "# Dziedziczenie"
   ]
  },
  {
   "cell_type": "code",
   "execution_count": null,
   "metadata": {},
   "outputs": [],
   "source": [
    "class A:\n",
    "    def __init__(self):\n",
    "        print(\"A\")\n",
    "\n",
    "class B(A):\n",
    "    def __init__(self):\n",
    "        super().__init__()\n",
    "        print(\"B\")\n",
    "\n",
    "class C(A):\n",
    "    def __init__(self):\n",
    "        super().__init__()\n",
    "        print(\"C\")\n",
    "\n",
    "class D(B, C):\n",
    "    def __init__(self):\n",
    "        super().__init__()\n",
    "        print(\"D\")"
   ]
  },
  {
   "cell_type": "code",
   "execution_count": null,
   "metadata": {},
   "outputs": [],
   "source": [
    "D.__mro__"
   ]
  },
  {
   "attachments": {},
   "cell_type": "markdown",
   "metadata": {},
   "source": [
    "## Mixins"
   ]
  },
  {
   "cell_type": "code",
   "execution_count": null,
   "metadata": {},
   "outputs": [],
   "source": [
    "class ComparableMixin:\n",
    "    def __ne__(self, other):\n",
    "        return not (self == other)\n",
    "    \n",
    "    def __le__(self, other):\n",
    "        return self < other or (self == other)\n",
    "    \n",
    "    def __gt__(self, other):\n",
    "        return not self <= other\n",
    "    \n",
    "    def __ge__(self, other):\n",
    "        return self > other or self == other\n",
    "    \n",
    "\n",
    "class MyInteger(ComparableMixin):  # klasą bazową jest \"object\"\n",
    "    def __init__(self, i):\n",
    "        self.i = i\n",
    "    \n",
    "    def __lt__(self, other):\n",
    "        return self.i < other.i\n",
    "    \n",
    "    def __eq__(self, other):\n",
    "        return self.i == other.i"
   ]
  },
  {
   "cell_type": "code",
   "execution_count": null,
   "metadata": {},
   "outputs": [],
   "source": [
    "m1 = MyInteger(42)\n",
    "m2 = MyInteger(665)"
   ]
  },
  {
   "cell_type": "code",
   "execution_count": null,
   "metadata": {},
   "outputs": [],
   "source": [
    "m1 == m2"
   ]
  },
  {
   "cell_type": "code",
   "execution_count": null,
   "metadata": {},
   "outputs": [],
   "source": [
    "m1 != m2"
   ]
  },
  {
   "cell_type": "code",
   "execution_count": null,
   "metadata": {},
   "outputs": [],
   "source": [
    "m1 > m2"
   ]
  },
  {
   "cell_type": "code",
   "execution_count": null,
   "metadata": {},
   "outputs": [],
   "source": [
    "import functools\n",
    "\n",
    "@functools.total_ordering\n",
    "class MyFloat:  \n",
    "    def __init__(self, i: float):\n",
    "        self.i = i\n",
    "    \n",
    "    def __lt__(self, other):\n",
    "        return self.i < other.i\n",
    "    \n",
    "    def __eq__(self, other):\n",
    "        return self.i == other.i"
   ]
  },
  {
   "cell_type": "code",
   "execution_count": null,
   "metadata": {},
   "outputs": [],
   "source": [
    "mf1 = MyFloat(1.33)\n",
    "mf2 = MyFloat(3.14)"
   ]
  },
  {
   "cell_type": "code",
   "execution_count": null,
   "metadata": {},
   "outputs": [],
   "source": [
    "mf1 > mf2"
   ]
  },
  {
   "cell_type": "code",
   "execution_count": null,
   "metadata": {},
   "outputs": [],
   "source": []
  },
  {
   "attachments": {},
   "cell_type": "markdown",
   "metadata": {},
   "source": [
    "# Dziedziczenie"
   ]
  },
  {
   "cell_type": "code",
   "execution_count": 59,
   "metadata": {},
   "outputs": [],
   "source": [
    "class A:\n",
    "    def __init__(self):\n",
    "        print(\"A\")\n",
    "\n",
    "class B(A):\n",
    "    def __init__(self):\n",
    "        super().__init__()\n",
    "        print(\"B\")\n",
    "\n",
    "class C(A):\n",
    "    def __init__(self):\n",
    "        super().__init__()\n",
    "        print(\"C\")\n",
    "\n",
    "class D(B, C):\n",
    "    def __init__(self):\n",
    "        super().__init__()\n",
    "        print(\"D\")"
   ]
  },
  {
   "cell_type": "code",
   "execution_count": 60,
   "metadata": {},
   "outputs": [
    {
     "data": {
      "text/plain": [
       "(__main__.D, __main__.B, __main__.C, __main__.A, object)"
      ]
     },
     "execution_count": 60,
     "metadata": {},
     "output_type": "execute_result"
    }
   ],
   "source": [
    "D.__mro__"
   ]
  },
  {
   "attachments": {},
   "cell_type": "markdown",
   "metadata": {},
   "source": [
    "## Mixins"
   ]
  },
  {
   "cell_type": "code",
   "execution_count": 61,
   "metadata": {},
   "outputs": [],
   "source": [
    "class ComparableMixin:\n",
    "    def __ne__(self, other):\n",
    "        return not (self == other)\n",
    "    \n",
    "    def __le__(self, other):\n",
    "        return self < other or (self == other)\n",
    "    \n",
    "    def __gt__(self, other):\n",
    "        return not self <= other\n",
    "    \n",
    "    def __ge__(self, other):\n",
    "        return self > other or self == other\n",
    "    \n",
    "\n",
    "class MyInteger(ComparableMixin):  # klasą bazową jest \"object\"\n",
    "    def __init__(self, i):\n",
    "        self.i = i\n",
    "    \n",
    "    def __lt__(self, other):\n",
    "        return self.i < other.i\n",
    "    \n",
    "    def __eq__(self, other):\n",
    "        return self.i == other.i"
   ]
  },
  {
   "cell_type": "code",
   "execution_count": 63,
   "metadata": {},
   "outputs": [],
   "source": [
    "m1 = MyInteger(42)\n",
    "m2 = MyInteger(665)"
   ]
  },
  {
   "cell_type": "code",
   "execution_count": 64,
   "metadata": {},
   "outputs": [
    {
     "data": {
      "text/plain": [
       "False"
      ]
     },
     "execution_count": 64,
     "metadata": {},
     "output_type": "execute_result"
    }
   ],
   "source": [
    "m1 == m2"
   ]
  },
  {
   "cell_type": "code",
   "execution_count": 65,
   "metadata": {},
   "outputs": [
    {
     "data": {
      "text/plain": [
       "True"
      ]
     },
     "execution_count": 65,
     "metadata": {},
     "output_type": "execute_result"
    }
   ],
   "source": [
    "m1 != m2"
   ]
  },
  {
   "cell_type": "code",
   "execution_count": 66,
   "metadata": {},
   "outputs": [
    {
     "data": {
      "text/plain": [
       "False"
      ]
     },
     "execution_count": 66,
     "metadata": {},
     "output_type": "execute_result"
    }
   ],
   "source": [
    "m1 > m2"
   ]
  },
  {
   "cell_type": "code",
   "execution_count": 67,
   "metadata": {},
   "outputs": [],
   "source": [
    "import functools\n",
    "\n",
    "@functools.total_ordering\n",
    "class MyFloat:  \n",
    "    def __init__(self, i: float):\n",
    "        self.i = i\n",
    "    \n",
    "    def __lt__(self, other):\n",
    "        return self.i < other.i\n",
    "    \n",
    "    def __eq__(self, other):\n",
    "        return self.i == other.i"
   ]
  },
  {
   "cell_type": "code",
   "execution_count": 68,
   "metadata": {},
   "outputs": [],
   "source": [
    "mf1 = MyFloat(1.33)\n",
    "mf2 = MyFloat(3.14)"
   ]
  },
  {
   "cell_type": "code",
   "execution_count": 69,
   "metadata": {},
   "outputs": [
    {
     "data": {
      "text/plain": [
       "False"
      ]
     },
     "execution_count": 69,
     "metadata": {},
     "output_type": "execute_result"
    }
   ],
   "source": [
    "mf1 > mf2"
   ]
  },
  {
   "attachments": {},
   "cell_type": "markdown",
   "metadata": {},
   "source": [
    "## Abstract Base Classes"
   ]
  },
  {
   "cell_type": "code",
   "execution_count": 106,
   "metadata": {},
   "outputs": [],
   "source": [
    "import abc\n",
    "from collections import namedtuple\n",
    "Coord = namedtuple('Coord', 'x y')\n",
    "\n",
    "class Shape(abc.ABC):\n",
    "\n",
    "    @abc.abstractmethod\n",
    "    def move(self, dx: int, dy: int) -> None:\n",
    "        raise NotImplementedError()\n",
    "\n",
    "    @abc.abstractmethod\n",
    "    def draw(self) -> None:\n",
    "        raise NotImplementedError()\n",
    "    \n",
    "    @abc.abstractmethod\n",
    "    def area(self):\n",
    "        pass\n",
    "        \n",
    "\n",
    "\n",
    "class ShapeBase(Shape):\n",
    "    def __init__(self, coord: Coord) -> None:\n",
    "        self.coord = coord\n",
    "\n",
    "    def move(self, dx: int, dy: int):\n",
    "        self.coord = Coord(self.coord.x + dx, self.coord.y + dy)\n",
    "\n",
    "\n",
    "class Rectangle(ShapeBase):\n",
    "    def __init__(self, coord: Coord, w: int, h: int):\n",
    "        super().__init__(coord)\n",
    "        self.width = w\n",
    "        self.height = h\n",
    "\n",
    "    def draw(self):        \n",
    "        print(f\"Drawing Rectangle at {self.coord} with width {self.width} and height {self.height}\")\n",
    "\n",
    "    def area(self):\n",
    "        return self.width * self.height\n",
    "\n",
    "\n",
    "class Circle(ShapeBase):\n",
    "    def __init__(self, coord: Coord, r: int):\n",
    "        super().__init__(coord)\n",
    "        self.radius = r        \n",
    "\n",
    "    def draw(self):\n",
    "        print(f\"Drawing Circle at {self.coord} with width {self.radius}\")\n",
    "\n",
    "    def area(self):\n",
    "        return self.radius ** 2 * 3.14\n",
    "\n",
    "class Square(Shape):\n",
    "    def __init__(self, coord: Coord, size: int):\n",
    "        self.__rect = Rectangle(coord, size, size)\n",
    "\n",
    "    def move(self, dx, dy):\n",
    "        self.__rect.move(dx, dy)\n",
    "\n",
    "        def draw(self):\n",
    "        self.__rect.draw()\n",
    "\n",
    "# class Square(Rectangle):\n",
    "#     def __init__(self, coord: Coord, size: int):\n",
    "#         super().__init__(coord, size, size)\n",
    "\n",
    "#     @property\n",
    "#     def height(self):\n",
    "#         return self.width\n",
    "\n",
    "#     @height.setter\n",
    "#     def height(self, value):         \n",
    "#          self.width = value\n",
    "\n",
    "#     @property\n",
    "#     def width(self):\n",
    "#         return self.height\n",
    "\n",
    "#     @width.setter\n",
    "#     def width(self, value):         \n",
    "#          self.height = value\n"
   ]
  },
  {
   "cell_type": "code",
   "execution_count": 107,
   "metadata": {},
   "outputs": [
    {
     "name": "stdout",
     "output_type": "stream",
     "text": [
      "Drawing Rectangle at Coord(x=250, y=400) with width 10 and height 20\n"
     ]
    }
   ],
   "source": [
    "rect = Rectangle(Coord(100, 200), 10, 20)\n",
    "\n",
    "rect.move(150, 200)\n",
    "rect.draw()"
   ]
  },
  {
   "cell_type": "code",
   "execution_count": 108,
   "metadata": {},
   "outputs": [],
   "source": [
    "c = Circle(Coord(500, 200), 100)"
   ]
  },
  {
   "cell_type": "code",
   "execution_count": 109,
   "metadata": {},
   "outputs": [],
   "source": [
    "from typing import List\n",
    "\n",
    "\n",
    "def render(shapes: List[Shape]):\n",
    "    for shp in shapes:\n",
    "        shp.draw()"
   ]
  },
  {
   "cell_type": "code",
   "execution_count": 110,
   "metadata": {},
   "outputs": [],
   "source": [
    "shapes = [rect, c]"
   ]
  },
  {
   "cell_type": "code",
   "execution_count": 111,
   "metadata": {},
   "outputs": [
    {
     "name": "stdout",
     "output_type": "stream",
     "text": [
      "Drawing Rectangle at Coord(x=250, y=400) with width 10 and height 20\n",
      "Drawing Circle at Coord(x=500, y=200) with width 100\n"
     ]
    }
   ],
   "source": [
    "render(shapes)"
   ]
  },
  {
   "cell_type": "code",
   "execution_count": 100,
   "metadata": {},
   "outputs": [
    {
     "ename": "TypeError",
     "evalue": "Can't instantiate abstract class ShapeBase with abstract method draw",
     "output_type": "error",
     "traceback": [
      "\u001b[1;31m---------------------------------------------------------------------------\u001b[0m",
      "\u001b[1;31mTypeError\u001b[0m                                 Traceback (most recent call last)",
      "Cell \u001b[1;32mIn[100], line 1\u001b[0m\n\u001b[1;32m----> 1\u001b[0m sb \u001b[39m=\u001b[39m ShapeBase()\n",
      "\u001b[1;31mTypeError\u001b[0m: Can't instantiate abstract class ShapeBase with abstract method draw"
     ]
    }
   ],
   "source": [
    "sb = ShapeBase()"
   ]
  },
  {
   "cell_type": "code",
   "execution_count": 112,
   "metadata": {},
   "outputs": [],
   "source": [
    "def test_evil(rect: Rectangle):\n",
    "    rect.width = 10\n",
    "    rect.height = 20\n",
    "\n",
    "    assert rect.area() == 200    "
   ]
  },
  {
   "cell_type": "code",
   "execution_count": 113,
   "metadata": {},
   "outputs": [],
   "source": [
    "test_evil(rect)"
   ]
  },
  {
   "cell_type": "code",
   "execution_count": 114,
   "metadata": {},
   "outputs": [
    {
     "ename": "",
     "evalue": "",
     "output_type": "error",
     "traceback": [
      "\u001b[1;31mCanceled future for execute_request message before replies were done"
     ]
    },
    {
     "ename": "",
     "evalue": "",
     "output_type": "error",
     "traceback": [
      "\u001b[1;31mThe Kernel crashed while executing code in the the current cell or a previous cell. Please review the code in the cell(s) to identify a possible cause of the failure. Click <a href='https://aka.ms/vscodeJupyterKernelCrash'>here</a> for more info. View Jupyter <a href='command:jupyter.viewOutput'>log</a> for further details."
     ]
    }
   ],
   "source": [
    "square = Square(Coord(0, 0), 100)\n"
   ]
  },
  {
   "cell_type": "code",
   "execution_count": 105,
   "metadata": {},
   "outputs": [],
   "source": [
    "test_evil(square)"
   ]
  },
  {
   "cell_type": "code",
   "execution_count": null,
   "metadata": {},
   "outputs": [],
   "source": [
    "sq = Square(Coord(10, 20), 100)"
   ]
  },
  {
   "cell_type": "code",
   "execution_count": null,
   "metadata": {},
   "outputs": [],
   "source": [
    "sq.width = 200\n",
    "sq.height = 400"
   ]
  },
  {
   "cell_type": "code",
   "execution_count": null,
   "metadata": {},
   "outputs": [],
   "source": [
    "def client(r: Rectangle):\n",
    "    r.width = 100\n",
    "    r.height = 300\n",
    "\n",
    "    if isinstance(r, Square):\n",
    "        pass\n",
    "\n",
    "    if (r.area() < 400):\n",
    "        pass"
   ]
  }
 ],
 "metadata": {
  "kernelspec": {
   "display_name": ".venv",
   "language": "python",
   "name": "python3"
  },
  "language_info": {
   "codemirror_mode": {
    "name": "ipython",
    "version": 3
   },
   "file_extension": ".py",
   "mimetype": "text/x-python",
   "name": "python",
   "nbconvert_exporter": "python",
   "pygments_lexer": "ipython3",
   "version": "3.11.2"
  },
  "orig_nbformat": 4
 },
 "nbformat": 4,
 "nbformat_minor": 2
}
