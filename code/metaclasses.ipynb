{
 "cells": [
  {
   "attachments": {},
   "cell_type": "markdown",
   "metadata": {},
   "source": [
    "# Metaklasy"
   ]
  },
  {
   "cell_type": "code",
   "execution_count": 1,
   "metadata": {},
   "outputs": [],
   "source": [
    "class Shape:\n",
    "    def draw(self):\n",
    "        pass\n",
    "\n",
    "class Rectangle(Shape):\n",
    "    _id = 'RECT'\n",
    "\n",
    "    def __init__(self, width, height):\n",
    "        self.width = width\n",
    "        self.height = height        \n",
    "\n",
    "    def draw(self):\n",
    "        print(f'Drawing {Rectangle._id}({self.width}, {self.height})')"
   ]
  },
  {
   "cell_type": "code",
   "execution_count": 4,
   "metadata": {},
   "outputs": [
    {
     "name": "stdout",
     "output_type": "stream",
     "text": [
      "Drawing RECT(100, 200)\n"
     ]
    }
   ],
   "source": [
    "r = Rectangle(100, 200)\n",
    "r.draw()"
   ]
  },
  {
   "cell_type": "code",
   "execution_count": 5,
   "metadata": {},
   "outputs": [
    {
     "data": {
      "text/plain": [
       "type"
      ]
     },
     "execution_count": 5,
     "metadata": {},
     "output_type": "execute_result"
    }
   ],
   "source": [
    "type(Rectangle)"
   ]
  },
  {
   "cell_type": "code",
   "execution_count": 6,
   "metadata": {},
   "outputs": [
    {
     "data": {
      "text/plain": [
       "'Rectangle'"
      ]
     },
     "execution_count": 6,
     "metadata": {},
     "output_type": "execute_result"
    }
   ],
   "source": [
    "Rectangle.__name__"
   ]
  },
  {
   "attachments": {},
   "cell_type": "markdown",
   "metadata": {},
   "source": [
    "To samo ale dynamicznie:"
   ]
  },
  {
   "cell_type": "code",
   "execution_count": 7,
   "metadata": {},
   "outputs": [],
   "source": [
    "def rect_init(self, width, height):\n",
    "    self.width = width\n",
    "    self.height = height \n",
    "\n",
    "RectangleT = type('RectangleT', (Shape, ), {\n",
    "    '_id': 'RECT_T',\n",
    "    '__init__': rect_init,\n",
    "    'draw': lambda self: print(f'Drawing {RectangleT._id}({self.width}, {self.height})')\n",
    "})"
   ]
  },
  {
   "cell_type": "code",
   "execution_count": 8,
   "metadata": {},
   "outputs": [
    {
     "data": {
      "text/plain": [
       "type"
      ]
     },
     "execution_count": 8,
     "metadata": {},
     "output_type": "execute_result"
    }
   ],
   "source": [
    "type(RectangleT)"
   ]
  },
  {
   "cell_type": "code",
   "execution_count": 9,
   "metadata": {},
   "outputs": [
    {
     "data": {
      "text/plain": [
       "'RectangleT'"
      ]
     },
     "execution_count": 9,
     "metadata": {},
     "output_type": "execute_result"
    }
   ],
   "source": [
    "RectangleT.__name__"
   ]
  },
  {
   "cell_type": "code",
   "execution_count": 10,
   "metadata": {},
   "outputs": [
    {
     "data": {
      "text/plain": [
       "(__main__.RectangleT, __main__.Shape, object)"
      ]
     },
     "execution_count": 10,
     "metadata": {},
     "output_type": "execute_result"
    }
   ],
   "source": [
    "RectangleT.__mro__"
   ]
  },
  {
   "cell_type": "code",
   "execution_count": 11,
   "metadata": {},
   "outputs": [],
   "source": [
    "rt = RectangleT(100, 200)"
   ]
  },
  {
   "cell_type": "code",
   "execution_count": 12,
   "metadata": {},
   "outputs": [
    {
     "name": "stdout",
     "output_type": "stream",
     "text": [
      "Drawing RECT_T(100, 200)\n"
     ]
    }
   ],
   "source": [
    "rt.draw()"
   ]
  },
  {
   "cell_type": "code",
   "execution_count": 13,
   "metadata": {},
   "outputs": [],
   "source": [
    "class ColorRectT(RectangleT):\n",
    "    def __init__(self, w, h, color):\n",
    "        super().__init__(w, h)\n",
    "        self.color = color"
   ]
  },
  {
   "cell_type": "code",
   "execution_count": 14,
   "metadata": {},
   "outputs": [],
   "source": [
    "color_rect = ColorRectT(100, 200, 255)"
   ]
  },
  {
   "cell_type": "code",
   "execution_count": 15,
   "metadata": {},
   "outputs": [
    {
     "data": {
      "text/plain": [
       "100"
      ]
     },
     "execution_count": 15,
     "metadata": {},
     "output_type": "execute_result"
    }
   ],
   "source": [
    "color_rect.width"
   ]
  },
  {
   "cell_type": "code",
   "execution_count": 16,
   "metadata": {},
   "outputs": [
    {
     "data": {
      "text/plain": [
       "255"
      ]
     },
     "execution_count": 16,
     "metadata": {},
     "output_type": "execute_result"
    }
   ],
   "source": [
    "color_rect.color"
   ]
  },
  {
   "attachments": {},
   "cell_type": "markdown",
   "metadata": {},
   "source": [
    "## Metaclass"
   ]
  },
  {
   "cell_type": "code",
   "execution_count": null,
   "metadata": {},
   "outputs": [],
   "source": [
    "class Metaclass(type):\n",
    "    @classmethod \n",
    "    def __prepare__(mcs, name, bases, **kwargs): \n",
    "        return super().__prepare__(name, bases, **kwargs)\n",
    "\n",
    "    def __new__(mcs, name, bases, class_dict):\n",
    "        return super().__new__(mcs, name, bases, class_dict)\n",
    "    \n",
    "    def __init__(cls, name, bases, class_dict, **kwargs): \n",
    "        super().__init__(name, bases, class_dict) \n",
    "\n",
    "    def __call__(cls, *args, **kwargs): \n",
    "        return super().__call__(*args, **kwargs)"
   ]
  },
  {
   "cell_type": "code",
   "execution_count": 18,
   "metadata": {},
   "outputs": [],
   "source": [
    "class RevealingMeta(type): \n",
    "    def __new__(mcs, name, bases, namespace, **kwargs): \n",
    "        print(mcs, \"METACLASS __new__ called\") \n",
    "        return super().__new__(mcs, name, bases, namespace) \n",
    " \n",
    "    @classmethod \n",
    "    def __prepare__(mcs, name, bases, **kwargs): \n",
    "        print(mcs, \" METACLASS __prepare__ called\") \n",
    "        return super().__prepare__(mcs, name, bases, **kwargs) \n",
    " \n",
    "    def __init__(cls, name, bases, namespace, **kwargs): \n",
    "        print(cls, \" METACLASS __init__ called\") \n",
    "        super().__init__(name, bases, namespace) \n",
    " \n",
    "    def __call__(cls, *args, **kwargs): \n",
    "        print(cls, \" METACLASS __call__ called\") \n",
    "        return super().__call__(*args, **kwargs) "
   ]
  },
  {
   "cell_type": "code",
   "execution_count": 19,
   "metadata": {},
   "outputs": [
    {
     "name": "stdout",
     "output_type": "stream",
     "text": [
      "<class '__main__.RevealingMeta'>  METACLASS __prepare__ called\n",
      "<class '__main__.RevealingMeta'> METACLASS __new__ called\n",
      "<class '__main__.RevealingClass'>  METACLASS __init__ called\n"
     ]
    }
   ],
   "source": [
    "class RevealingClass(metaclass=RevealingMeta):\n",
    "    def __new__(cls):\n",
    "        print(cls, \"__new__ called\")\n",
    "        return super().__new__(cls)\n",
    "    \n",
    "    def __init__(self):\n",
    "        print(self, \"__init__ called\")\n",
    "        super().__init__()"
   ]
  },
  {
   "cell_type": "code",
   "execution_count": 20,
   "metadata": {},
   "outputs": [
    {
     "name": "stdout",
     "output_type": "stream",
     "text": [
      "<class '__main__.RevealingClass'>  METACLASS __call__ called\n",
      "<class '__main__.RevealingClass'> __new__ called\n",
      "<__main__.RevealingClass object at 0x000001EC196F9510> __init__ called\n"
     ]
    }
   ],
   "source": [
    "instance_rc = RevealingClass()"
   ]
  },
  {
   "cell_type": "code",
   "execution_count": 17,
   "metadata": {},
   "outputs": [],
   "source": [
    "from typing import Any, Mapping\n",
    "import inflection\n",
    "\n",
    "class CaseInterpolationDict(dict):\n",
    "    def __setitem__(self, key, value):\n",
    "        super().__setitem__(key, value)\n",
    "        super().__setitem__(inflection.underscore(key), value)\n",
    "\n",
    "class CaseInterpolatedMeta(type):\n",
    "    \"\"\"metaclass\"\"\"\n",
    "    @classmethod\n",
    "    def __prepare__(metacls, __name: str, __bases: tuple[type, ...], **kwds: Any) -> Mapping[str, object]:\n",
    "        return CaseInterpolationDict()"
   ]
  },
  {
   "cell_type": "code",
   "execution_count": 24,
   "metadata": {},
   "outputs": [],
   "source": [
    "class MyUser(metaclass=CaseInterpolatedMeta):\n",
    "    pass\n",
    "\n",
    "class User(MyUser):\n",
    "    idUser = 0\n",
    "\n",
    "    def __init__(self, firstName: str, lastName: str):\n",
    "        self.firstName = firstName\n",
    "        self.lastName = lastName\n",
    "\n",
    "    def getDisplayName(self):\n",
    "        return f\"{self.firstName} {self.lastName}\"\n",
    "    \n",
    "    def greetUser(self):\n",
    "        return f\"Hello {self.getDisplayName()}!\""
   ]
  },
  {
   "cell_type": "code",
   "execution_count": 25,
   "metadata": {},
   "outputs": [],
   "source": [
    "admin = User(\"admin\", \"root\")"
   ]
  },
  {
   "cell_type": "code",
   "execution_count": 26,
   "metadata": {},
   "outputs": [
    {
     "ename": "AttributeError",
     "evalue": "'User' object has no attribute 'getDisplayName'",
     "output_type": "error",
     "traceback": [
      "\u001b[1;31m---------------------------------------------------------------------------\u001b[0m",
      "\u001b[1;31mAttributeError\u001b[0m                            Traceback (most recent call last)",
      "\u001b[1;32md:\\infotraining\\trainings\\py\\python-adv-2023-05-10\\code\\metaclasses.ipynb Cell 25\u001b[0m in \u001b[0;36m<module>\u001b[1;34m\u001b[0m\n\u001b[1;32m----> <a href='vscode-notebook-cell:/d%3A/infotraining/trainings/py/python-adv-2023-05-10/code/metaclasses.ipynb#X33sZmlsZQ%3D%3D?line=0'>1</a>\u001b[0m admin\u001b[39m.\u001b[39;49mgetDisplayName()\n",
      "\u001b[1;31mAttributeError\u001b[0m: 'User' object has no attribute 'getDisplayName'"
     ]
    }
   ],
   "source": [
    "admin.getDisplayName()"
   ]
  },
  {
   "cell_type": "code",
   "execution_count": 27,
   "metadata": {},
   "outputs": [
    {
     "data": {
      "text/plain": [
       "'admin root'"
      ]
     },
     "execution_count": 27,
     "metadata": {},
     "output_type": "execute_result"
    }
   ],
   "source": [
    "admin.get_display_name()"
   ]
  },
  {
   "cell_type": "code",
   "execution_count": 28,
   "metadata": {},
   "outputs": [
    {
     "data": {
      "text/plain": [
       "0"
      ]
     },
     "execution_count": 28,
     "metadata": {},
     "output_type": "execute_result"
    }
   ],
   "source": [
    "User.id_user"
   ]
  },
  {
   "attachments": {},
   "cell_type": "markdown",
   "metadata": {},
   "source": [
    "# Metaprogramming"
   ]
  },
  {
   "cell_type": "markdown",
   "metadata": {},
   "source": [
    "# How it works - namedtuple"
   ]
  },
  {
   "cell_type": "code",
   "execution_count": 30,
   "metadata": {},
   "outputs": [],
   "source": [
    "from typing import Iterable, Iterator, Union\n",
    "\n",
    "\n",
    "FieldNames = Union[str, Iterable[str]]\n",
    "\n",
    "\n",
    "def parse_identifiers(names: FieldNames) -> tuple[str, ...]:\n",
    "    if isinstance(names, str):\n",
    "        names = names.replace(',', ' ').split()\n",
    "\n",
    "    if not all(s.isidentifier() for s in names):\n",
    "        raise ValueError('names must all be valid identifiers')\n",
    "\n",
    "    return tuple(names)\n",
    "\n",
    "def record_factory(cls_name, field_names: FieldNames):\n",
    "    slots = parse_identifiers(field_names)\n",
    "\n",
    "    def __init__(self, *args, **kwargs) -> None:\n",
    "        attrs = dict(zip(self.__slots__, args))\n",
    "        attrs.update(kwargs)\n",
    "\n",
    "        for name, value in attrs.items():\n",
    "            setattr(self, name, value)\n",
    "\n",
    "    def __iter__(self) -> Iterator[Any]:\n",
    "        for name in self.__slots__:\n",
    "            yield getattr(self, name)\n",
    "\n",
    "    def __repr__(self):\n",
    "        values = ', '.join(f\"{name}={value!r}\" for name,\n",
    "                           value in zip(self.__slots__, self))\n",
    "        cls_name = self.__class__.__name__\n",
    "        return f\"{cls_name}({values})\"\n",
    "\n",
    "    cls_attrs = dict(\n",
    "        __slots__ = slots,\n",
    "        __init__ = __init__,\n",
    "        __repr__ = __repr__,\n",
    "        __iter__ = __iter__\n",
    "    )\n",
    "\n",
    "    return type(cls_name, (object, ), cls_attrs)"
   ]
  },
  {
   "cell_type": "code",
   "execution_count": 31,
   "metadata": {},
   "outputs": [],
   "source": [
    "Point = record_factory('Point', 'x y')"
   ]
  },
  {
   "cell_type": "code",
   "execution_count": 32,
   "metadata": {},
   "outputs": [],
   "source": [
    "pt1 = Point(10, 20)"
   ]
  },
  {
   "cell_type": "code",
   "execution_count": 33,
   "metadata": {},
   "outputs": [
    {
     "data": {
      "text/plain": [
       "10"
      ]
     },
     "execution_count": 33,
     "metadata": {},
     "output_type": "execute_result"
    }
   ],
   "source": [
    "pt1.x"
   ]
  },
  {
   "cell_type": "code",
   "execution_count": 34,
   "metadata": {},
   "outputs": [
    {
     "data": {
      "text/plain": [
       "Point(x=10, y=20)"
      ]
     },
     "execution_count": 34,
     "metadata": {},
     "output_type": "execute_result"
    }
   ],
   "source": [
    "pt1"
   ]
  },
  {
   "cell_type": "code",
   "execution_count": 35,
   "metadata": {},
   "outputs": [
    {
     "name": "stdout",
     "output_type": "stream",
     "text": [
      "10\n",
      "20\n"
     ]
    }
   ],
   "source": [
    "for i in pt1:\n",
    "    print(i)"
   ]
  },
  {
   "cell_type": "markdown",
   "metadata": {},
   "source": [
    "## "
   ]
  },
  {
   "attachments": {},
   "cell_type": "markdown",
   "metadata": {},
   "source": [
    "## NamedTuple"
   ]
  },
  {
   "cell_type": "code",
   "execution_count": 38,
   "metadata": {},
   "outputs": [],
   "source": [
    "class MetaBunch(type):\n",
    "    def __new__(mcl, classname, bases, classdict):\n",
    "        \n",
    "        # Define as local functions __init__ & __repr__ that we'll use \n",
    "        # in the new class\n",
    "        def __init__(self, **kwargs):\n",
    "            \"\"\"__init__ is simple: first, set attributes without\n",
    "               explicit values to their defaults; then, set those\n",
    "               explicitly passed in kw.\n",
    "            \"\"\"\n",
    "            for k in self.__dflts__:\n",
    "                if not k in kwargs:\n",
    "                    setattr(self, k, self.__dflts__[k])\n",
    "            for k in kwargs:\n",
    "                setattr(self, k, kwargs[k])\n",
    "\n",
    "        def __repr__(self):\n",
    "            \"\"\"__repr__ is minimal: shows only attributes that\n",
    "               differ from default values, for compactness.\n",
    "            \"\"\"\n",
    "            rep = [f'{k}={getattr(self, k)!r}' for k in self.__dflts__ if getattr(self, k) != self.__dflts__[k]]\n",
    "            return f\"{classname}({', '.join(rep)})\"\n",
    "        \n",
    "        newdict = { \n",
    "            '__slots__': [], \n",
    "            '__dflts__': {},\n",
    "            '__init__' : __init__, \n",
    "            '__repr__' : __repr__,\n",
    "        }\n",
    "        \n",
    "        for k in classdict:\n",
    "            if k.startswith('__') and k.endswith('__'):\n",
    "                if k in newdict:\n",
    "                    warnings.warn(f\"Cannot set attr {k!r} in bunch-class {classname!r}\")\n",
    "                else:\n",
    "                    newdict[k] = classdict[k]\n",
    "            else:\n",
    "                newdict['__slots__'].append(k)\n",
    "                newdict['__dflts__'][k] = classdict[k]\n",
    "\n",
    "        return super().__new__(mcl, classname, bases, newdict)\n",
    "    \n",
    "class Bunch(metaclass=MetaBunch):\n",
    "    pass"
   ]
  },
  {
   "cell_type": "code",
   "execution_count": 39,
   "metadata": {},
   "outputs": [],
   "source": [
    "class Point(Bunch):\n",
    "    x = 0\n",
    "    y = 0\n",
    "    color = 'red'\n",
    "\n",
    "pt = Point(x=10, y=20)"
   ]
  },
  {
   "cell_type": "code",
   "execution_count": 40,
   "metadata": {},
   "outputs": [
    {
     "data": {
      "text/plain": [
       "10"
      ]
     },
     "execution_count": 40,
     "metadata": {},
     "output_type": "execute_result"
    }
   ],
   "source": [
    "pt.x"
   ]
  },
  {
   "cell_type": "code",
   "execution_count": 41,
   "metadata": {},
   "outputs": [
    {
     "data": {
      "text/plain": [
       "'red'"
      ]
     },
     "execution_count": 41,
     "metadata": {},
     "output_type": "execute_result"
    }
   ],
   "source": [
    "pt.color"
   ]
  },
  {
   "cell_type": "code",
   "execution_count": 42,
   "metadata": {},
   "outputs": [
    {
     "data": {
      "text/plain": [
       "Point(x=10, y=20)"
      ]
     },
     "execution_count": 42,
     "metadata": {},
     "output_type": "execute_result"
    }
   ],
   "source": [
    "pt1"
   ]
  },
  {
   "attachments": {},
   "cell_type": "markdown",
   "metadata": {},
   "source": [
    "## ABC"
   ]
  },
  {
   "cell_type": "code",
   "execution_count": 45,
   "metadata": {},
   "outputs": [],
   "source": [
    "def abstractmethod(function):\n",
    "    function.__abstract__ = True\n",
    "    return function "
   ]
  },
  {
   "cell_type": "code",
   "execution_count": 46,
   "metadata": {},
   "outputs": [
    {
     "name": "stdout",
     "output_type": "stream",
     "text": [
      "__new__(<class '__main__.AbstractMeta'>, MyAbc, (), {'__module__': '__main__', '__qualname__': 'MyAbc'})\n"
     ]
    }
   ],
   "source": [
    "import functools\n",
    "\n",
    "\n",
    "class AbstractMeta(type):\n",
    "    def __new__(metaclass, name, bases, namespace):\n",
    "        # Create the class instance\n",
    "        print(f\"__new__({metaclass}, {name}, {bases!r}, {namespace!r})\")\n",
    "        cls = super().__new__(metaclass, name, bases, namespace)\n",
    "\n",
    "        # Collect all local method marked as abstract\n",
    "        abstracts = set()\n",
    "        for k, v in namespace.items():\n",
    "            if getattr(v, '__abstract__', False):\n",
    "                abstracts.add(k)\n",
    "\n",
    "        # Look for abstract methods in the base classes and add them to the list of abstracts\n",
    "        for base in bases:\n",
    "            for k in getattr(base, '__abstracts__', ()):\n",
    "                v = getattr(cls, k, None)\n",
    "                if getattr(v, '__abstract__', False):\n",
    "                    abstracts.add(k)\n",
    "\n",
    "        # Store the abstracts in a frozenset so the cannot be modified\n",
    "        cls.__abstracts__ = frozenset(abstracts)\n",
    "\n",
    "        # Decorate the __new__ function to check if all abstract functions were implemented\n",
    "        original_new = cls.__new__\n",
    "        @functools.wraps(original_new)\n",
    "        def new(self, *args, **kwargs):\n",
    "            for k in self.__abstracts__:\n",
    "                v = getattr(self, k)\n",
    "                if getattr(v, '__abstract__', False):\n",
    "                    raise RuntimeError(f'{k} is not implemented')\n",
    "            return original_new(self, *args, **kwargs)\n",
    "        \n",
    "        cls.__new__ = new\n",
    "        return cls\n",
    "    \n",
    "class MyAbc(metaclass=AbstractMeta):\n",
    "    pass"
   ]
  },
  {
   "cell_type": "code",
   "execution_count": 48,
   "metadata": {},
   "outputs": [
    {
     "name": "stdout",
     "output_type": "stream",
     "text": [
      "__new__(<class '__main__.AbstractMeta'>, Shape, (<class '__main__.MyAbc'>,), {'__module__': '__main__', '__qualname__': 'Shape', 'draw': <function Shape.draw at 0x000002A168CAA710>})\n",
      "__new__(<class '__main__.AbstractMeta'>, RotableShape, (<class '__main__.Shape'>,), {'__module__': '__main__', '__qualname__': 'RotableShape', 'rotate': <function RotableShape.rotate at 0x000002A168CAA170>, 'draw': <function RotableShape.draw at 0x000002A168CAAA70>})\n",
      "__new__(<class '__main__.AbstractMeta'>, Rectangle, (<class '__main__.RotableShape'>,), {'__module__': '__main__', '__qualname__': 'Rectangle'})\n"
     ]
    },
    {
     "ename": "RuntimeError",
     "evalue": "rotate is not implemented",
     "output_type": "error",
     "traceback": [
      "\u001b[1;31m---------------------------------------------------------------------------\u001b[0m",
      "\u001b[1;31mRuntimeError\u001b[0m                              Traceback (most recent call last)",
      "\u001b[1;32md:\\infotraining\\trainings\\py\\python-adv-2023-05-10\\code\\metaclasses.ipynb Cell 46\u001b[0m in \u001b[0;36m<module>\u001b[1;34m\u001b[0m\n\u001b[0;32m     <a href='vscode-notebook-cell:/d%3A/infotraining/trainings/py/python-adv-2023-05-10/code/metaclasses.ipynb#X63sZmlsZQ%3D%3D?line=16'>17</a>\u001b[0m     \u001b[39mpass\u001b[39;00m\n\u001b[0;32m     <a href='vscode-notebook-cell:/d%3A/infotraining/trainings/py/python-adv-2023-05-10/code/metaclasses.ipynb#X63sZmlsZQ%3D%3D?line=17'>18</a>\u001b[0m     \u001b[39m# def rotate(self, angle):\u001b[39;00m\n\u001b[0;32m     <a href='vscode-notebook-cell:/d%3A/infotraining/trainings/py/python-adv-2023-05-10/code/metaclasses.ipynb#X63sZmlsZQ%3D%3D?line=18'>19</a>\u001b[0m     \u001b[39m#     print(\"Rotate rectangle\")\u001b[39;00m\n\u001b[1;32m---> <a href='vscode-notebook-cell:/d%3A/infotraining/trainings/py/python-adv-2023-05-10/code/metaclasses.ipynb#X63sZmlsZQ%3D%3D?line=20'>21</a>\u001b[0m r \u001b[39m=\u001b[39m Rectangle()\n",
      "\u001b[1;32md:\\infotraining\\trainings\\py\\python-adv-2023-05-10\\code\\metaclasses.ipynb Cell 46\u001b[0m in \u001b[0;36mAbstractMeta.__new__.<locals>.new\u001b[1;34m(self, *args, **kwargs)\u001b[0m\n\u001b[0;32m     <a href='vscode-notebook-cell:/d%3A/infotraining/trainings/py/python-adv-2023-05-10/code/metaclasses.ipynb#X63sZmlsZQ%3D%3D?line=30'>31</a>\u001b[0m     v \u001b[39m=\u001b[39m \u001b[39mgetattr\u001b[39m(\u001b[39mself\u001b[39m, k)\n\u001b[0;32m     <a href='vscode-notebook-cell:/d%3A/infotraining/trainings/py/python-adv-2023-05-10/code/metaclasses.ipynb#X63sZmlsZQ%3D%3D?line=31'>32</a>\u001b[0m     \u001b[39mif\u001b[39;00m \u001b[39mgetattr\u001b[39m(v, \u001b[39m'\u001b[39m\u001b[39m__abstract__\u001b[39m\u001b[39m'\u001b[39m, \u001b[39mFalse\u001b[39;00m):\n\u001b[1;32m---> <a href='vscode-notebook-cell:/d%3A/infotraining/trainings/py/python-adv-2023-05-10/code/metaclasses.ipynb#X63sZmlsZQ%3D%3D?line=32'>33</a>\u001b[0m         \u001b[39mraise\u001b[39;00m \u001b[39mRuntimeError\u001b[39;00m(\u001b[39mf\u001b[39m\u001b[39m'\u001b[39m\u001b[39m{\u001b[39;00mk\u001b[39m}\u001b[39;00m\u001b[39m is not implemented\u001b[39m\u001b[39m'\u001b[39m)\n\u001b[0;32m     <a href='vscode-notebook-cell:/d%3A/infotraining/trainings/py/python-adv-2023-05-10/code/metaclasses.ipynb#X63sZmlsZQ%3D%3D?line=33'>34</a>\u001b[0m \u001b[39mreturn\u001b[39;00m original_new(\u001b[39mself\u001b[39m, \u001b[39m*\u001b[39margs, \u001b[39m*\u001b[39m\u001b[39m*\u001b[39mkwargs)\n",
      "\u001b[1;31mRuntimeError\u001b[0m: rotate is not implemented"
     ]
    }
   ],
   "source": [
    "class Shape(MyAbc):\n",
    "\n",
    "    @abstractmethod\n",
    "    def draw(self) -> None:\n",
    "        pass\n",
    "\n",
    "\n",
    "class RotableShape(Shape):\n",
    "    @abstractmethod\n",
    "    def rotate(self, angle):\n",
    "        pass\n",
    "\n",
    "    def draw(self):\n",
    "        print(\"Drawing shape\")\n",
    "\n",
    "class Rectangle(RotableShape):\n",
    "    pass\n",
    "    # def rotate(self, angle):\n",
    "    #     print(\"Rotate rectangle\")\n",
    "\n",
    "r = Rectangle()"
   ]
  },
  {
   "cell_type": "code",
   "execution_count": 49,
   "metadata": {},
   "outputs": [
    {
     "data": {
      "text/plain": [
       "frozenset({'rotate'})"
      ]
     },
     "execution_count": 49,
     "metadata": {},
     "output_type": "execute_result"
    }
   ],
   "source": [
    "Rectangle.__abstracts__"
   ]
  },
  {
   "cell_type": "code",
   "execution_count": 50,
   "metadata": {},
   "outputs": [
    {
     "data": {
      "text/plain": [
       "frozenset({'draw'})"
      ]
     },
     "execution_count": 50,
     "metadata": {},
     "output_type": "execute_result"
    }
   ],
   "source": [
    "Shape.__abstracts__"
   ]
  },
  {
   "cell_type": "code",
   "execution_count": null,
   "metadata": {},
   "outputs": [],
   "source": []
  }
 ],
 "metadata": {
  "kernelspec": {
   "display_name": "Python 3",
   "language": "python",
   "name": "python3"
  },
  "language_info": {
   "codemirror_mode": {
    "name": "ipython",
    "version": 3
   },
   "file_extension": ".py",
   "mimetype": "text/x-python",
   "name": "python",
   "nbconvert_exporter": "python",
   "pygments_lexer": "ipython3",
   "version": "3.10.2"
  },
  "orig_nbformat": 4
 },
 "nbformat": 4,
 "nbformat_minor": 2
}
